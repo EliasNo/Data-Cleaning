{
 "cells": [
  {
   "cell_type": "code",
   "execution_count": 1,
   "metadata": {},
   "outputs": [
    {
     "data": {
      "text/html": [
       "<div>\n",
       "<style scoped>\n",
       "    .dataframe tbody tr th:only-of-type {\n",
       "        vertical-align: middle;\n",
       "    }\n",
       "\n",
       "    .dataframe tbody tr th {\n",
       "        vertical-align: top;\n",
       "    }\n",
       "\n",
       "    .dataframe thead th {\n",
       "        text-align: right;\n",
       "    }\n",
       "</style>\n",
       "<table border=\"1\" class=\"dataframe\">\n",
       "  <thead>\n",
       "    <tr style=\"text-align: right;\">\n",
       "      <th></th>\n",
       "      <th>Unnamed: 0</th>\n",
       "      <th>BOROUGH</th>\n",
       "      <th>NEIGHBORHOOD</th>\n",
       "      <th>BUILDING CLASS CATEGORY</th>\n",
       "      <th>TAX CLASS AT PRESENT</th>\n",
       "      <th>BLOCK</th>\n",
       "      <th>LOT</th>\n",
       "      <th>EASE-MENT</th>\n",
       "      <th>BUILDING CLASS AT PRESENT</th>\n",
       "      <th>ADDRESS</th>\n",
       "      <th>...</th>\n",
       "      <th>RESIDENTIAL UNITS</th>\n",
       "      <th>COMMERCIAL UNITS</th>\n",
       "      <th>TOTAL UNITS</th>\n",
       "      <th>LAND SQUARE FEET</th>\n",
       "      <th>GROSS SQUARE FEET</th>\n",
       "      <th>YEAR BUILT</th>\n",
       "      <th>TAX CLASS AT TIME OF SALE</th>\n",
       "      <th>BUILDING CLASS AT TIME OF SALE</th>\n",
       "      <th>SALE PRICE</th>\n",
       "      <th>SALE DATE</th>\n",
       "    </tr>\n",
       "  </thead>\n",
       "  <tbody>\n",
       "    <tr>\n",
       "      <th>0</th>\n",
       "      <td>4</td>\n",
       "      <td>1</td>\n",
       "      <td>ALPHABET CITY</td>\n",
       "      <td>07 RENTALS - WALKUP APARTMENTS</td>\n",
       "      <td>2A</td>\n",
       "      <td>392</td>\n",
       "      <td>6</td>\n",
       "      <td></td>\n",
       "      <td>C2</td>\n",
       "      <td>153 AVENUE B</td>\n",
       "      <td>...</td>\n",
       "      <td>5</td>\n",
       "      <td>0</td>\n",
       "      <td>5</td>\n",
       "      <td>1633</td>\n",
       "      <td>6440</td>\n",
       "      <td>1900</td>\n",
       "      <td>2</td>\n",
       "      <td>C2</td>\n",
       "      <td>6625000</td>\n",
       "      <td>2017-07-19 00:00:00</td>\n",
       "    </tr>\n",
       "    <tr>\n",
       "      <th>1</th>\n",
       "      <td>5</td>\n",
       "      <td>1</td>\n",
       "      <td>ALPHABET CITY</td>\n",
       "      <td>07 RENTALS - WALKUP APARTMENTS</td>\n",
       "      <td>2</td>\n",
       "      <td>399</td>\n",
       "      <td>26</td>\n",
       "      <td></td>\n",
       "      <td>C7</td>\n",
       "      <td>234 EAST 4TH   STREET</td>\n",
       "      <td>...</td>\n",
       "      <td>28</td>\n",
       "      <td>3</td>\n",
       "      <td>31</td>\n",
       "      <td>4616</td>\n",
       "      <td>18690</td>\n",
       "      <td>1900</td>\n",
       "      <td>2</td>\n",
       "      <td>C7</td>\n",
       "      <td>-</td>\n",
       "      <td>2016-12-14 00:00:00</td>\n",
       "    </tr>\n",
       "  </tbody>\n",
       "</table>\n",
       "<p>2 rows × 22 columns</p>\n",
       "</div>"
      ],
      "text/plain": [
       "   Unnamed: 0  BOROUGH   NEIGHBORHOOD  \\\n",
       "0           4        1  ALPHABET CITY   \n",
       "1           5        1  ALPHABET CITY   \n",
       "\n",
       "                       BUILDING CLASS CATEGORY TAX CLASS AT PRESENT  BLOCK  \\\n",
       "0  07 RENTALS - WALKUP APARTMENTS                                2A    392   \n",
       "1  07 RENTALS - WALKUP APARTMENTS                                 2    399   \n",
       "\n",
       "   LOT EASE-MENT BUILDING CLASS AT PRESENT                ADDRESS  ...  \\\n",
       "0    6                                  C2           153 AVENUE B  ...   \n",
       "1   26                                  C7  234 EAST 4TH   STREET  ...   \n",
       "\n",
       "  RESIDENTIAL UNITS  COMMERCIAL UNITS  TOTAL UNITS  LAND SQUARE FEET  \\\n",
       "0                 5                 0            5              1633   \n",
       "1                28                 3           31              4616   \n",
       "\n",
       "   GROSS SQUARE FEET YEAR BUILT TAX CLASS AT TIME OF SALE  \\\n",
       "0               6440       1900                         2   \n",
       "1              18690       1900                         2   \n",
       "\n",
       "   BUILDING CLASS AT TIME OF SALE  SALE PRICE            SALE DATE  \n",
       "0                              C2     6625000  2017-07-19 00:00:00  \n",
       "1                              C7         -    2016-12-14 00:00:00  \n",
       "\n",
       "[2 rows x 22 columns]"
      ]
     },
     "execution_count": 1,
     "metadata": {},
     "output_type": "execute_result"
    }
   ],
   "source": [
    "import pandas as pd\n",
    "import numpy as np\n",
    "import matplotlib.pyplot as plt\n",
    "df= pd.read_csv(\"nyc-rolling-sales.csv\")\n",
    "df.head(2)"
   ]
  },
  {
   "cell_type": "code",
   "execution_count": 2,
   "metadata": {},
   "outputs": [
    {
     "data": {
      "text/plain": [
       "(84548, 22)"
      ]
     },
     "execution_count": 2,
     "metadata": {},
     "output_type": "execute_result"
    }
   ],
   "source": [
    "df.shape"
   ]
  },
  {
   "cell_type": "code",
   "execution_count": 3,
   "metadata": {},
   "outputs": [
    {
     "data": {
      "text/plain": [
       "Index(['Unnamed: 0', 'BOROUGH', 'NEIGHBORHOOD', 'BUILDING CLASS CATEGORY',\n",
       "       'TAX CLASS AT PRESENT', 'BLOCK', 'LOT', 'EASE-MENT',\n",
       "       'BUILDING CLASS AT PRESENT', 'ADDRESS', 'APARTMENT NUMBER', 'ZIP CODE',\n",
       "       'RESIDENTIAL UNITS', 'COMMERCIAL UNITS', 'TOTAL UNITS',\n",
       "       'LAND SQUARE FEET', 'GROSS SQUARE FEET', 'YEAR BUILT',\n",
       "       'TAX CLASS AT TIME OF SALE', 'BUILDING CLASS AT TIME OF SALE',\n",
       "       'SALE PRICE', 'SALE DATE'],\n",
       "      dtype='object')"
      ]
     },
     "execution_count": 3,
     "metadata": {},
     "output_type": "execute_result"
    }
   ],
   "source": [
    "df.columns"
   ]
  },
  {
   "cell_type": "code",
   "execution_count": 4,
   "metadata": {},
   "outputs": [],
   "source": [
    "df.rename(columns = {'Unnamed: 0':'Index','NEIGHBORHOOD':'NEIGHBOURHOOD','EASE-MENT':'EASEMENT','APARTMENT NUMBER':'APPARTMENT_NUMBER'}, inplace=True)"
   ]
  },
  {
   "cell_type": "code",
   "execution_count": 5,
   "metadata": {},
   "outputs": [],
   "source": [
    "df.columns = df.columns.str.strip().str.replace(' ', '_')"
   ]
  },
  {
   "cell_type": "code",
   "execution_count": 6,
   "metadata": {},
   "outputs": [
    {
     "data": {
      "text/plain": [
       "Index(['Index', 'BOROUGH', 'NEIGHBOURHOOD', 'BUILDING_CLASS_CATEGORY',\n",
       "       'TAX_CLASS_AT_PRESENT', 'BLOCK', 'LOT', 'EASEMENT',\n",
       "       'BUILDING_CLASS_AT_PRESENT', 'ADDRESS', 'APPARTMENT_NUMBER', 'ZIP_CODE',\n",
       "       'RESIDENTIAL_UNITS', 'COMMERCIAL_UNITS', 'TOTAL_UNITS',\n",
       "       'LAND_SQUARE_FEET', 'GROSS_SQUARE_FEET', 'YEAR_BUILT',\n",
       "       'TAX_CLASS_AT_TIME_OF_SALE', 'BUILDING_CLASS_AT_TIME_OF_SALE',\n",
       "       'SALE_PRICE', 'SALE_DATE'],\n",
       "      dtype='object')"
      ]
     },
     "execution_count": 6,
     "metadata": {},
     "output_type": "execute_result"
    }
   ],
   "source": [
    "df.columns"
   ]
  },
  {
   "cell_type": "code",
   "execution_count": 7,
   "metadata": {},
   "outputs": [
    {
     "data": {
      "text/plain": [
       "0"
      ]
     },
     "execution_count": 7,
     "metadata": {},
     "output_type": "execute_result"
    }
   ],
   "source": [
    "columns=df.columns\n",
    "df.duplicated(columns).sum()"
   ]
  },
  {
   "cell_type": "code",
   "execution_count": 8,
   "metadata": {},
   "outputs": [
    {
     "data": {
      "text/html": [
       "<div>\n",
       "<style scoped>\n",
       "    .dataframe tbody tr th:only-of-type {\n",
       "        vertical-align: middle;\n",
       "    }\n",
       "\n",
       "    .dataframe tbody tr th {\n",
       "        vertical-align: top;\n",
       "    }\n",
       "\n",
       "    .dataframe thead th {\n",
       "        text-align: right;\n",
       "    }\n",
       "</style>\n",
       "<table border=\"1\" class=\"dataframe\">\n",
       "  <thead>\n",
       "    <tr style=\"text-align: right;\">\n",
       "      <th></th>\n",
       "      <th>Index</th>\n",
       "      <th>BOROUGH</th>\n",
       "      <th>BLOCK</th>\n",
       "      <th>LOT</th>\n",
       "      <th>ZIP_CODE</th>\n",
       "      <th>RESIDENTIAL_UNITS</th>\n",
       "      <th>COMMERCIAL_UNITS</th>\n",
       "      <th>TOTAL_UNITS</th>\n",
       "      <th>YEAR_BUILT</th>\n",
       "      <th>TAX_CLASS_AT_TIME_OF_SALE</th>\n",
       "    </tr>\n",
       "  </thead>\n",
       "  <tbody>\n",
       "    <tr>\n",
       "      <th>count</th>\n",
       "      <td>84548.000000</td>\n",
       "      <td>84548.000000</td>\n",
       "      <td>84548.000000</td>\n",
       "      <td>84548.000000</td>\n",
       "      <td>84548.000000</td>\n",
       "      <td>84548.000000</td>\n",
       "      <td>84548.000000</td>\n",
       "      <td>84548.000000</td>\n",
       "      <td>84548.000000</td>\n",
       "      <td>84548.000000</td>\n",
       "    </tr>\n",
       "    <tr>\n",
       "      <th>mean</th>\n",
       "      <td>10344.359878</td>\n",
       "      <td>2.998758</td>\n",
       "      <td>4237.218976</td>\n",
       "      <td>376.224015</td>\n",
       "      <td>10731.991614</td>\n",
       "      <td>2.025264</td>\n",
       "      <td>0.193559</td>\n",
       "      <td>2.249184</td>\n",
       "      <td>1789.322976</td>\n",
       "      <td>1.657485</td>\n",
       "    </tr>\n",
       "    <tr>\n",
       "      <th>std</th>\n",
       "      <td>7151.779436</td>\n",
       "      <td>1.289790</td>\n",
       "      <td>3568.263407</td>\n",
       "      <td>658.136814</td>\n",
       "      <td>1290.879147</td>\n",
       "      <td>16.721037</td>\n",
       "      <td>8.713183</td>\n",
       "      <td>18.972584</td>\n",
       "      <td>537.344993</td>\n",
       "      <td>0.819341</td>\n",
       "    </tr>\n",
       "    <tr>\n",
       "      <th>min</th>\n",
       "      <td>4.000000</td>\n",
       "      <td>1.000000</td>\n",
       "      <td>1.000000</td>\n",
       "      <td>1.000000</td>\n",
       "      <td>0.000000</td>\n",
       "      <td>0.000000</td>\n",
       "      <td>0.000000</td>\n",
       "      <td>0.000000</td>\n",
       "      <td>0.000000</td>\n",
       "      <td>1.000000</td>\n",
       "    </tr>\n",
       "    <tr>\n",
       "      <th>25%</th>\n",
       "      <td>4231.000000</td>\n",
       "      <td>2.000000</td>\n",
       "      <td>1322.750000</td>\n",
       "      <td>22.000000</td>\n",
       "      <td>10305.000000</td>\n",
       "      <td>0.000000</td>\n",
       "      <td>0.000000</td>\n",
       "      <td>1.000000</td>\n",
       "      <td>1920.000000</td>\n",
       "      <td>1.000000</td>\n",
       "    </tr>\n",
       "    <tr>\n",
       "      <th>50%</th>\n",
       "      <td>8942.000000</td>\n",
       "      <td>3.000000</td>\n",
       "      <td>3311.000000</td>\n",
       "      <td>50.000000</td>\n",
       "      <td>11209.000000</td>\n",
       "      <td>1.000000</td>\n",
       "      <td>0.000000</td>\n",
       "      <td>1.000000</td>\n",
       "      <td>1940.000000</td>\n",
       "      <td>2.000000</td>\n",
       "    </tr>\n",
       "    <tr>\n",
       "      <th>75%</th>\n",
       "      <td>15987.250000</td>\n",
       "      <td>4.000000</td>\n",
       "      <td>6281.000000</td>\n",
       "      <td>1001.000000</td>\n",
       "      <td>11357.000000</td>\n",
       "      <td>2.000000</td>\n",
       "      <td>0.000000</td>\n",
       "      <td>2.000000</td>\n",
       "      <td>1965.000000</td>\n",
       "      <td>2.000000</td>\n",
       "    </tr>\n",
       "    <tr>\n",
       "      <th>max</th>\n",
       "      <td>26739.000000</td>\n",
       "      <td>5.000000</td>\n",
       "      <td>16322.000000</td>\n",
       "      <td>9106.000000</td>\n",
       "      <td>11694.000000</td>\n",
       "      <td>1844.000000</td>\n",
       "      <td>2261.000000</td>\n",
       "      <td>2261.000000</td>\n",
       "      <td>2017.000000</td>\n",
       "      <td>4.000000</td>\n",
       "    </tr>\n",
       "  </tbody>\n",
       "</table>\n",
       "</div>"
      ],
      "text/plain": [
       "              Index       BOROUGH         BLOCK           LOT      ZIP_CODE  \\\n",
       "count  84548.000000  84548.000000  84548.000000  84548.000000  84548.000000   \n",
       "mean   10344.359878      2.998758   4237.218976    376.224015  10731.991614   \n",
       "std     7151.779436      1.289790   3568.263407    658.136814   1290.879147   \n",
       "min        4.000000      1.000000      1.000000      1.000000      0.000000   \n",
       "25%     4231.000000      2.000000   1322.750000     22.000000  10305.000000   \n",
       "50%     8942.000000      3.000000   3311.000000     50.000000  11209.000000   \n",
       "75%    15987.250000      4.000000   6281.000000   1001.000000  11357.000000   \n",
       "max    26739.000000      5.000000  16322.000000   9106.000000  11694.000000   \n",
       "\n",
       "       RESIDENTIAL_UNITS  COMMERCIAL_UNITS   TOTAL_UNITS    YEAR_BUILT  \\\n",
       "count       84548.000000      84548.000000  84548.000000  84548.000000   \n",
       "mean            2.025264          0.193559      2.249184   1789.322976   \n",
       "std            16.721037          8.713183     18.972584    537.344993   \n",
       "min             0.000000          0.000000      0.000000      0.000000   \n",
       "25%             0.000000          0.000000      1.000000   1920.000000   \n",
       "50%             1.000000          0.000000      1.000000   1940.000000   \n",
       "75%             2.000000          0.000000      2.000000   1965.000000   \n",
       "max          1844.000000       2261.000000   2261.000000   2017.000000   \n",
       "\n",
       "       TAX_CLASS_AT_TIME_OF_SALE  \n",
       "count               84548.000000  \n",
       "mean                    1.657485  \n",
       "std                     0.819341  \n",
       "min                     1.000000  \n",
       "25%                     1.000000  \n",
       "50%                     2.000000  \n",
       "75%                     2.000000  \n",
       "max                     4.000000  "
      ]
     },
     "execution_count": 8,
     "metadata": {},
     "output_type": "execute_result"
    }
   ],
   "source": [
    "df.describe()"
   ]
  },
  {
   "cell_type": "code",
   "execution_count": 9,
   "metadata": {},
   "outputs": [
    {
     "data": {
      "text/plain": [
       "Index                             0\n",
       "BOROUGH                           0\n",
       "NEIGHBOURHOOD                     0\n",
       "BUILDING_CLASS_CATEGORY           0\n",
       "TAX_CLASS_AT_PRESENT              0\n",
       "BLOCK                             0\n",
       "LOT                               0\n",
       "EASEMENT                          0\n",
       "BUILDING_CLASS_AT_PRESENT         0\n",
       "ADDRESS                           0\n",
       "APPARTMENT_NUMBER                 0\n",
       "ZIP_CODE                          0\n",
       "RESIDENTIAL_UNITS                 0\n",
       "COMMERCIAL_UNITS                  0\n",
       "TOTAL_UNITS                       0\n",
       "LAND_SQUARE_FEET                  0\n",
       "GROSS_SQUARE_FEET                 0\n",
       "YEAR_BUILT                        0\n",
       "TAX_CLASS_AT_TIME_OF_SALE         0\n",
       "BUILDING_CLASS_AT_TIME_OF_SALE    0\n",
       "SALE_PRICE                        0\n",
       "SALE_DATE                         0\n",
       "dtype: int64"
      ]
     },
     "execution_count": 9,
     "metadata": {},
     "output_type": "execute_result"
    }
   ],
   "source": [
    "df.isnull().sum()"
   ]
  },
  {
   "cell_type": "code",
   "execution_count": 10,
   "metadata": {},
   "outputs": [],
   "source": [
    "def outlier(datacolumn):\n",
    "    sorted(datacolumn)\n",
    "    Q1,Q3 = np.percentile(datacolumn , [25,75])\n",
    "    IQR = Q3 - Q1\n",
    "    lower_range = Q1 - (1.5 * IQR)\n",
    "    upper_range = Q3 + (1.5 * IQR)\n",
    "    print (lower_range,upper_range)\n",
    "    plt.hist(datacolumn)\n",
    "    plt.show()"
   ]
  },
  {
   "cell_type": "code",
   "execution_count": 11,
   "metadata": {},
   "outputs": [
    {
     "data": {
      "text/plain": [
       "(84548, 22)"
      ]
     },
     "execution_count": 11,
     "metadata": {},
     "output_type": "execute_result"
    }
   ],
   "source": [
    "df.shape"
   ]
  },
  {
   "cell_type": "code",
   "execution_count": 12,
   "metadata": {},
   "outputs": [],
   "source": [
    "# Index"
   ]
  },
  {
   "cell_type": "code",
   "execution_count": 13,
   "metadata": {},
   "outputs": [
    {
     "data": {
      "text/plain": [
       "26736"
      ]
     },
     "execution_count": 13,
     "metadata": {},
     "output_type": "execute_result"
    }
   ],
   "source": [
    "df.Index.nunique()"
   ]
  },
  {
   "cell_type": "code",
   "execution_count": 14,
   "metadata": {},
   "outputs": [],
   "source": [
    "# Many duplicate records in index"
   ]
  },
  {
   "cell_type": "code",
   "execution_count": 15,
   "metadata": {},
   "outputs": [],
   "source": [
    "df.drop([\"Index\"],inplace=True,axis=1)"
   ]
  },
  {
   "cell_type": "code",
   "execution_count": 16,
   "metadata": {},
   "outputs": [],
   "source": [
    "a=[]\n",
    "for i in range (1,1+len(df)):\n",
    "    a.append(i)"
   ]
  },
  {
   "cell_type": "code",
   "execution_count": 17,
   "metadata": {},
   "outputs": [
    {
     "data": {
      "text/plain": [
       "Index(['BOROUGH', 'NEIGHBOURHOOD', 'BUILDING_CLASS_CATEGORY',\n",
       "       'TAX_CLASS_AT_PRESENT', 'BLOCK', 'LOT', 'EASEMENT',\n",
       "       'BUILDING_CLASS_AT_PRESENT', 'ADDRESS', 'APPARTMENT_NUMBER', 'ZIP_CODE',\n",
       "       'RESIDENTIAL_UNITS', 'COMMERCIAL_UNITS', 'TOTAL_UNITS',\n",
       "       'LAND_SQUARE_FEET', 'GROSS_SQUARE_FEET', 'YEAR_BUILT',\n",
       "       'TAX_CLASS_AT_TIME_OF_SALE', 'BUILDING_CLASS_AT_TIME_OF_SALE',\n",
       "       'SALE_PRICE', 'SALE_DATE', 'Index'],\n",
       "      dtype='object')"
      ]
     },
     "execution_count": 17,
     "metadata": {},
     "output_type": "execute_result"
    }
   ],
   "source": [
    "df['Index']=a\n",
    "df.columns"
   ]
  },
  {
   "cell_type": "code",
   "execution_count": 18,
   "metadata": {},
   "outputs": [
    {
     "data": {
      "text/plain": [
       "Index(['Index', 'BOROUGH', 'NEIGHBOURHOOD', 'BUILDING_CLASS_CATEGORY',\n",
       "       'TAX_CLASS_AT_PRESENT', 'BLOCK', 'LOT', 'EASEMENT',\n",
       "       'BUILDING_CLASS_AT_PRESENT', 'ADDRESS', 'APPARTMENT_NUMBER', 'ZIP_CODE',\n",
       "       'RESIDENTIAL_UNITS', 'COMMERCIAL_UNITS', 'TOTAL_UNITS',\n",
       "       'LAND_SQUARE_FEET', 'GROSS_SQUARE_FEET', 'YEAR_BUILT',\n",
       "       'TAX_CLASS_AT_TIME_OF_SALE', 'BUILDING_CLASS_AT_TIME_OF_SALE',\n",
       "       'SALE_PRICE', 'SALE_DATE'],\n",
       "      dtype='object')"
      ]
     },
     "execution_count": 18,
     "metadata": {},
     "output_type": "execute_result"
    }
   ],
   "source": [
    "df=df[['Index','BOROUGH', 'NEIGHBOURHOOD', 'BUILDING_CLASS_CATEGORY',\n",
    "       'TAX_CLASS_AT_PRESENT', 'BLOCK', 'LOT', 'EASEMENT',\n",
    "       'BUILDING_CLASS_AT_PRESENT', 'ADDRESS', 'APPARTMENT_NUMBER', 'ZIP_CODE',\n",
    "       'RESIDENTIAL_UNITS', 'COMMERCIAL_UNITS', 'TOTAL_UNITS',\n",
    "       'LAND_SQUARE_FEET', 'GROSS_SQUARE_FEET', 'YEAR_BUILT',\n",
    "       'TAX_CLASS_AT_TIME_OF_SALE', 'BUILDING_CLASS_AT_TIME_OF_SALE',\n",
    "       'SALE_PRICE', 'SALE_DATE']]\n",
    "df.columns"
   ]
  },
  {
   "cell_type": "code",
   "execution_count": 19,
   "metadata": {},
   "outputs": [],
   "source": [
    "# BOROUGH: A digit code for the borough the property is located in; in order these are Manhattan (1), Bronx (2), Brooklyn (3), Queens (4), and Staten Island (5)."
   ]
  },
  {
   "cell_type": "code",
   "execution_count": 20,
   "metadata": {},
   "outputs": [
    {
     "data": {
      "text/plain": [
       "5"
      ]
     },
     "execution_count": 20,
     "metadata": {},
     "output_type": "execute_result"
    }
   ],
   "source": [
    "df.BOROUGH.nunique()"
   ]
  },
  {
   "cell_type": "code",
   "execution_count": 21,
   "metadata": {},
   "outputs": [],
   "source": [
    "for a in df[\"BOROUGH\"]:\n",
    "    if(a%1!=0):\n",
    "        print(\"not integer\")"
   ]
  },
  {
   "cell_type": "code",
   "execution_count": 22,
   "metadata": {},
   "outputs": [
    {
     "data": {
      "text/plain": [
       "4    26736\n",
       "3    24047\n",
       "1    18306\n",
       "5     8410\n",
       "2     7049\n",
       "Name: BOROUGH, dtype: int64"
      ]
     },
     "execution_count": 22,
     "metadata": {},
     "output_type": "execute_result"
    }
   ],
   "source": [
    "df.BOROUGH.value_counts()"
   ]
  },
  {
   "cell_type": "code",
   "execution_count": 23,
   "metadata": {},
   "outputs": [],
   "source": [
    "df.BOROUGH.replace({1:\"Manhattan\",2:\"Bronx\",3:\"Brooklyn\",4:\"Queens\",5:\"Staten Island\"},inplace=True)"
   ]
  },
  {
   "cell_type": "code",
   "execution_count": 24,
   "metadata": {},
   "outputs": [
    {
     "data": {
      "text/plain": [
       "Queens           26736\n",
       "Brooklyn         24047\n",
       "Manhattan        18306\n",
       "Staten Island     8410\n",
       "Bronx             7049\n",
       "Name: BOROUGH, dtype: int64"
      ]
     },
     "execution_count": 24,
     "metadata": {},
     "output_type": "execute_result"
    }
   ],
   "source": [
    "df.BOROUGH.value_counts()"
   ]
  },
  {
   "cell_type": "code",
   "execution_count": 25,
   "metadata": {},
   "outputs": [],
   "source": [
    "# NEIGHBOURHOOD"
   ]
  },
  {
   "cell_type": "code",
   "execution_count": 26,
   "metadata": {},
   "outputs": [
    {
     "data": {
      "text/plain": [
       "254"
      ]
     },
     "execution_count": 26,
     "metadata": {},
     "output_type": "execute_result"
    }
   ],
   "source": [
    "df.NEIGHBOURHOOD.nunique()"
   ]
  },
  {
   "cell_type": "code",
   "execution_count": 27,
   "metadata": {},
   "outputs": [
    {
     "data": {
      "text/plain": [
       "array(['ALPHABET CITY', 'CHELSEA', 'CHINATOWN', 'CIVIC CENTER', 'CLINTON',\n",
       "       'EAST VILLAGE', 'FASHION', 'FINANCIAL', 'FLATIRON', 'GRAMERCY',\n",
       "       'GREENWICH VILLAGE-CENTRAL', 'GREENWICH VILLAGE-WEST',\n",
       "       'HARLEM-CENTRAL', 'HARLEM-EAST', 'HARLEM-UPPER', 'HARLEM-WEST',\n",
       "       'INWOOD', 'JAVITS CENTER', 'KIPS BAY', 'LITTLE ITALY',\n",
       "       'LOWER EAST SIDE', 'MANHATTAN VALLEY', 'MIDTOWN CBD',\n",
       "       'MIDTOWN EAST', 'MIDTOWN WEST', 'MORNINGSIDE HEIGHTS',\n",
       "       'MURRAY HILL', 'ROOSEVELT ISLAND', 'SOHO', 'SOUTHBRIDGE',\n",
       "       'TRIBECA', 'UPPER EAST SIDE (59-79)', 'UPPER EAST SIDE (79-96)',\n",
       "       'UPPER EAST SIDE (96-110)', 'UPPER WEST SIDE (59-79)',\n",
       "       'UPPER WEST SIDE (79-96)', 'UPPER WEST SIDE (96-116)',\n",
       "       'WASHINGTON HEIGHTS LOWER', 'WASHINGTON HEIGHTS UPPER', 'BATHGATE',\n",
       "       'BAYCHESTER', 'BEDFORD PARK/NORWOOD', 'BELMONT', 'BRONX PARK',\n",
       "       'BRONXDALE', 'CASTLE HILL/UNIONPORT', 'CITY ISLAND',\n",
       "       'CITY ISLAND-PELHAM STRIP', 'CO-OP CITY', 'COUNTRY CLUB',\n",
       "       'CROTONA PARK', 'EAST RIVER', 'EAST TREMONT', 'FIELDSTON',\n",
       "       'FORDHAM', 'HIGHBRIDGE/MORRIS HEIGHTS', 'HUNTS POINT',\n",
       "       'KINGSBRIDGE HTS/UNIV HTS', 'KINGSBRIDGE/JEROME PARK',\n",
       "       'MELROSE/CONCOURSE', 'MORRIS PARK/VAN NEST', 'MORRISANIA/LONGWOOD',\n",
       "       'MOTT HAVEN/PORT MORRIS', 'MOUNT HOPE/MOUNT EDEN', 'PARKCHESTER',\n",
       "       'PELHAM BAY', 'PELHAM GARDENS', 'PELHAM PARKWAY NORTH',\n",
       "       'PELHAM PARKWAY SOUTH', 'RIVERDALE', 'SCHUYLERVILLE/PELHAM BAY',\n",
       "       'SOUNDVIEW', 'THROGS NECK', 'VAN CORTLANDT PARK', 'WAKEFIELD',\n",
       "       'WESTCHESTER', 'WILLIAMSBRIDGE', 'WOODLAWN', 'BATH BEACH',\n",
       "       'BAY RIDGE', 'BEDFORD STUYVESANT', 'BENSONHURST', 'BERGEN BEACH',\n",
       "       'BOERUM HILL', 'BOROUGH PARK', 'BRIGHTON BEACH',\n",
       "       'BROOKLYN HEIGHTS', 'BROWNSVILLE', 'BUSH TERMINAL', 'BUSHWICK',\n",
       "       'CANARSIE', 'CARROLL GARDENS', 'CLINTON HILL', 'COBBLE HILL',\n",
       "       'COBBLE HILL-WEST', 'CONEY ISLAND', 'CROWN HEIGHTS',\n",
       "       'CYPRESS HILLS', 'DOWNTOWN-FULTON FERRY', 'DOWNTOWN-FULTON MALL',\n",
       "       'DOWNTOWN-METROTECH', 'DYKER HEIGHTS', 'EAST NEW YORK',\n",
       "       'FLATBUSH-CENTRAL', 'FLATBUSH-EAST', 'FLATBUSH-LEFFERTS GARDEN',\n",
       "       'FLATBUSH-NORTH', 'FLATLANDS', 'FORT GREENE', 'GERRITSEN BEACH',\n",
       "       'GOWANUS', 'GRAVESEND', 'GREENPOINT', 'JAMAICA BAY', 'KENSINGTON',\n",
       "       'MADISON', 'MANHATTAN BEACH', 'MARINE PARK', 'MIDWOOD',\n",
       "       'MILL BASIN', 'NAVY YARD', 'OCEAN HILL', 'OCEAN PARKWAY-NORTH',\n",
       "       'OCEAN PARKWAY-SOUTH', 'OLD MILL BASIN', 'PARK SLOPE',\n",
       "       'PARK SLOPE SOUTH', 'PROSPECT HEIGHTS', 'RED HOOK', 'SEAGATE',\n",
       "       'SHEEPSHEAD BAY', 'SPRING CREEK', 'SUNSET PARK',\n",
       "       'WILLIAMSBURG-CENTRAL', 'WILLIAMSBURG-EAST', 'WILLIAMSBURG-NORTH',\n",
       "       'WILLIAMSBURG-SOUTH', 'WINDSOR TERRACE', 'WYCKOFF HEIGHTS',\n",
       "       'AIRPORT LA GUARDIA', 'ARVERNE', 'ASTORIA', 'BAYSIDE',\n",
       "       'BEECHHURST', 'BELLE HARBOR', 'BELLEROSE', 'BRIARWOOD',\n",
       "       'BROAD CHANNEL', 'CAMBRIA HEIGHTS', 'COLLEGE POINT', 'CORONA',\n",
       "       'DOUGLASTON', 'EAST ELMHURST', 'ELMHURST', 'FAR ROCKAWAY',\n",
       "       'FLORAL PARK', 'FLUSHING MEADOW PARK', 'FLUSHING-NORTH',\n",
       "       'FLUSHING-SOUTH', 'FOREST HILLS', 'FRESH MEADOWS', 'GLEN OAKS',\n",
       "       'GLENDALE', 'HAMMELS', 'HILLCREST', 'HOLLIS', 'HOLLIS HILLS',\n",
       "       'HOLLISWOOD', 'HOWARD BEACH', 'JACKSON HEIGHTS', 'JAMAICA',\n",
       "       'JAMAICA ESTATES', 'JAMAICA HILLS', 'KEW GARDENS', 'LAURELTON',\n",
       "       'LITTLE NECK', 'LONG ISLAND CITY', 'MASPETH', 'MIDDLE VILLAGE',\n",
       "       'NEPONSIT', 'OAKLAND GARDENS', 'OZONE PARK', 'QUEENS VILLAGE',\n",
       "       'REGO PARK', 'RICHMOND HILL', 'RIDGEWOOD', 'ROCKAWAY PARK',\n",
       "       'ROSEDALE', 'SO. JAMAICA-BAISLEY PARK', 'SOUTH JAMAICA',\n",
       "       'SOUTH OZONE PARK', 'SPRINGFIELD GARDENS', 'ST. ALBANS',\n",
       "       'SUNNYSIDE', 'WHITESTONE', 'WOODHAVEN', 'WOODSIDE', 'ANNADALE',\n",
       "       'ARDEN HEIGHTS', 'ARROCHAR', 'ARROCHAR-SHORE ACRES', 'BLOOMFIELD',\n",
       "       'BULLS HEAD', 'CASTLETON CORNERS', 'CLOVE LAKES', 'CONCORD',\n",
       "       'CONCORD-FOX HILLS', 'DONGAN HILLS', 'DONGAN HILLS-COLONY',\n",
       "       'DONGAN HILLS-OLD TOWN', 'ELTINGVILLE', 'EMERSON HILL',\n",
       "       'FRESH KILLS', 'GRANT CITY', 'GRASMERE', 'GREAT KILLS',\n",
       "       'GREAT KILLS-BAY TERRACE', 'GRYMES HILL', 'HUGUENOT', 'LIVINGSTON',\n",
       "       'MANOR HEIGHTS', 'MARINERS HARBOR', 'MIDLAND BEACH',\n",
       "       'NEW BRIGHTON', 'NEW BRIGHTON-ST. GEORGE', 'NEW DORP',\n",
       "       'NEW DORP-BEACH', 'NEW DORP-HEIGHTS', 'NEW SPRINGVILLE', 'OAKWOOD',\n",
       "       'OAKWOOD-BEACH', 'PLEASANT PLAINS', 'PORT IVORY', 'PORT RICHMOND',\n",
       "       'PRINCES BAY', 'RICHMONDTOWN', 'RICHMONDTOWN-LIGHTHS HILL',\n",
       "       'ROSEBANK', 'ROSSVILLE', 'ROSSVILLE-CHARLESTON',\n",
       "       'ROSSVILLE-PORT MOBIL', 'ROSSVILLE-RICHMOND VALLEY', 'SILVER LAKE',\n",
       "       'SOUTH BEACH', 'STAPLETON', 'STAPLETON-CLIFTON', 'TODT HILL',\n",
       "       'TOMPKINSVILLE', 'TOTTENVILLE', 'TRAVIS', 'WEST NEW BRIGHTON',\n",
       "       'WESTERLEIGH', 'WILLOWBROOK', 'WOODROW'], dtype=object)"
      ]
     },
     "execution_count": 27,
     "metadata": {},
     "output_type": "execute_result"
    }
   ],
   "source": [
    "df.NEIGHBOURHOOD.unique()"
   ]
  },
  {
   "cell_type": "code",
   "execution_count": 28,
   "metadata": {},
   "outputs": [
    {
     "data": {
      "text/plain": [
       "FLUSHING-NORTH              3068\n",
       "UPPER EAST SIDE (59-79)     1736\n",
       "UPPER EAST SIDE (79-96)     1590\n",
       "UPPER WEST SIDE (59-79)     1439\n",
       "BEDFORD STUYVESANT          1436\n",
       "                            ... \n",
       "FRESH KILLS                    2\n",
       "EAST RIVER                     1\n",
       "BRONX PARK                     1\n",
       "PELHAM BAY                     1\n",
       "CITY ISLAND-PELHAM STRIP       1\n",
       "Name: NEIGHBOURHOOD, Length: 254, dtype: int64"
      ]
     },
     "execution_count": 28,
     "metadata": {},
     "output_type": "execute_result"
    }
   ],
   "source": [
    "df.NEIGHBOURHOOD.value_counts()"
   ]
  },
  {
   "cell_type": "code",
   "execution_count": 29,
   "metadata": {},
   "outputs": [],
   "source": [
    "# BUILDING CLASS CATEGORY"
   ]
  },
  {
   "cell_type": "code",
   "execution_count": 30,
   "metadata": {},
   "outputs": [
    {
     "data": {
      "text/plain": [
       "array(['07 RENTALS - WALKUP APARTMENTS             ',\n",
       "       '08 RENTALS - ELEVATOR APARTMENTS           ',\n",
       "       '09 COOPS - WALKUP APARTMENTS               ',\n",
       "       '10 COOPS - ELEVATOR APARTMENTS             ',\n",
       "       '11A CONDO-RENTALS                           ',\n",
       "       '12 CONDOS - WALKUP APARTMENTS              ',\n",
       "       '13 CONDOS - ELEVATOR APARTMENTS            ',\n",
       "       '14 RENTALS - 4-10 UNIT                     ',\n",
       "       '15 CONDOS - 2-10 UNIT RESIDENTIAL          ',\n",
       "       '16 CONDOS - 2-10 UNIT WITH COMMERCIAL UNIT ',\n",
       "       '17 CONDO COOPS                             ',\n",
       "       '22 STORE BUILDINGS                         ',\n",
       "       '37 RELIGIOUS FACILITIES                    ',\n",
       "       '42 CONDO CULTURAL/MEDICAL/EDUCATIONAL/ETC  ',\n",
       "       '46 CONDO STORE BUILDINGS                   ',\n",
       "       '47 CONDO NON-BUSINESS STORAGE              ',\n",
       "       '01 ONE FAMILY DWELLINGS                    ',\n",
       "       '02 TWO FAMILY DWELLINGS                    ',\n",
       "       '03 THREE FAMILY DWELLINGS                  ',\n",
       "       '04 TAX CLASS 1 CONDOS                      ',\n",
       "       '21 OFFICE BUILDINGS                        ',\n",
       "       '23 LOFT BUILDINGS                          ',\n",
       "       '25 LUXURY HOTELS                           ',\n",
       "       '26 OTHER HOTELS                            ',\n",
       "       '28 COMMERCIAL CONDOS                       ',\n",
       "       '29 COMMERCIAL GARAGES                      ',\n",
       "       '35 INDOOR PUBLIC AND CULTURAL FACILITIES   ',\n",
       "       '38 ASYLUMS AND HOMES                       ',\n",
       "       '43 CONDO OFFICE BUILDINGS                  ',\n",
       "       '44 CONDO PARKING                           ',\n",
       "       '48 CONDO TERRACES/GARDENS/CABANAS          ',\n",
       "       '31 COMMERCIAL VACANT LAND                  ',\n",
       "       '32 HOSPITAL AND HEALTH FACILITIES          ',\n",
       "       '41 TAX CLASS 4 - OTHER                     ',\n",
       "       '18 TAX CLASS 3 - UNTILITY PROPERTIES       ',\n",
       "       '30 WAREHOUSES                              ',\n",
       "       '36 OUTDOOR RECREATIONAL FACILITIES         ',\n",
       "       '49 CONDO WAREHOUSES/FACTORY/INDUS          ',\n",
       "       '34 THEATRES                                ',\n",
       "       '27 FACTORIES                               ',\n",
       "       '40 SELECTED GOVERNMENTAL FACILITIES        ',\n",
       "       '45 CONDO HOTELS                            ',\n",
       "       '33 EDUCATIONAL FACILITIES                  ',\n",
       "       '11 SPECIAL CONDO BILLING LOTS              ',\n",
       "       '05 TAX CLASS 1 VACANT LAND                 ',\n",
       "       '06 TAX CLASS 1 - OTHER                     ',\n",
       "       '39 TRANSPORTATION FACILITIES               '], dtype=object)"
      ]
     },
     "execution_count": 30,
     "metadata": {},
     "output_type": "execute_result"
    }
   ],
   "source": [
    "df.BUILDING_CLASS_CATEGORY.unique()"
   ]
  },
  {
   "cell_type": "code",
   "execution_count": 31,
   "metadata": {},
   "outputs": [],
   "source": [
    "df[\"BUILDING_CLASS_CATEGORY\"]=df[\"BUILDING_CLASS_CATEGORY\"].str.rstrip()"
   ]
  },
  {
   "cell_type": "code",
   "execution_count": 32,
   "metadata": {},
   "outputs": [
    {
     "data": {
      "text/plain": [
       "array(['07 RENTALS - WALKUP APARTMENTS',\n",
       "       '08 RENTALS - ELEVATOR APARTMENTS', '09 COOPS - WALKUP APARTMENTS',\n",
       "       '10 COOPS - ELEVATOR APARTMENTS', '11A CONDO-RENTALS',\n",
       "       '12 CONDOS - WALKUP APARTMENTS', '13 CONDOS - ELEVATOR APARTMENTS',\n",
       "       '14 RENTALS - 4-10 UNIT', '15 CONDOS - 2-10 UNIT RESIDENTIAL',\n",
       "       '16 CONDOS - 2-10 UNIT WITH COMMERCIAL UNIT', '17 CONDO COOPS',\n",
       "       '22 STORE BUILDINGS', '37 RELIGIOUS FACILITIES',\n",
       "       '42 CONDO CULTURAL/MEDICAL/EDUCATIONAL/ETC',\n",
       "       '46 CONDO STORE BUILDINGS', '47 CONDO NON-BUSINESS STORAGE',\n",
       "       '01 ONE FAMILY DWELLINGS', '02 TWO FAMILY DWELLINGS',\n",
       "       '03 THREE FAMILY DWELLINGS', '04 TAX CLASS 1 CONDOS',\n",
       "       '21 OFFICE BUILDINGS', '23 LOFT BUILDINGS', '25 LUXURY HOTELS',\n",
       "       '26 OTHER HOTELS', '28 COMMERCIAL CONDOS', '29 COMMERCIAL GARAGES',\n",
       "       '35 INDOOR PUBLIC AND CULTURAL FACILITIES', '38 ASYLUMS AND HOMES',\n",
       "       '43 CONDO OFFICE BUILDINGS', '44 CONDO PARKING',\n",
       "       '48 CONDO TERRACES/GARDENS/CABANAS', '31 COMMERCIAL VACANT LAND',\n",
       "       '32 HOSPITAL AND HEALTH FACILITIES', '41 TAX CLASS 4 - OTHER',\n",
       "       '18 TAX CLASS 3 - UNTILITY PROPERTIES', '30 WAREHOUSES',\n",
       "       '36 OUTDOOR RECREATIONAL FACILITIES',\n",
       "       '49 CONDO WAREHOUSES/FACTORY/INDUS', '34 THEATRES', '27 FACTORIES',\n",
       "       '40 SELECTED GOVERNMENTAL FACILITIES', '45 CONDO HOTELS',\n",
       "       '33 EDUCATIONAL FACILITIES', '11 SPECIAL CONDO BILLING LOTS',\n",
       "       '05 TAX CLASS 1 VACANT LAND', '06 TAX CLASS 1 - OTHER',\n",
       "       '39 TRANSPORTATION FACILITIES'], dtype=object)"
      ]
     },
     "execution_count": 32,
     "metadata": {},
     "output_type": "execute_result"
    }
   ],
   "source": [
    "df.BUILDING_CLASS_CATEGORY.unique()"
   ]
  },
  {
   "cell_type": "code",
   "execution_count": 33,
   "metadata": {},
   "outputs": [
    {
     "data": {
      "text/plain": [
       "01 ONE FAMILY DWELLINGS                       18235\n",
       "02 TWO FAMILY DWELLINGS                       15828\n",
       "13 CONDOS - ELEVATOR APARTMENTS               12989\n",
       "10 COOPS - ELEVATOR APARTMENTS                12902\n",
       "03 THREE FAMILY DWELLINGS                      4384\n",
       "07 RENTALS - WALKUP APARTMENTS                 3466\n",
       "09 COOPS - WALKUP APARTMENTS                   2767\n",
       "04 TAX CLASS 1 CONDOS                          1656\n",
       "44 CONDO PARKING                               1441\n",
       "15 CONDOS - 2-10 UNIT RESIDENTIAL              1281\n",
       "05 TAX CLASS 1 VACANT LAND                     1248\n",
       "17 CONDO COOPS                                 1201\n",
       "22 STORE BUILDINGS                              935\n",
       "12 CONDOS - WALKUP APARTMENTS                   926\n",
       "14 RENTALS - 4-10 UNIT                          671\n",
       "29 COMMERCIAL GARAGES                           587\n",
       "43 CONDO OFFICE BUILDINGS                       475\n",
       "31 COMMERCIAL VACANT LAND                       463\n",
       "08 RENTALS - ELEVATOR APARTMENTS                382\n",
       "47 CONDO NON-BUSINESS STORAGE                   377\n",
       "21 OFFICE BUILDINGS                             350\n",
       "30 WAREHOUSES                                   326\n",
       "45 CONDO HOTELS                                 211\n",
       "27 FACTORIES                                    201\n",
       "06 TAX CLASS 1 - OTHER                          182\n",
       "41 TAX CLASS 4 - OTHER                          158\n",
       "46 CONDO STORE BUILDINGS                        154\n",
       "26 OTHER HOTELS                                 114\n",
       "37 RELIGIOUS FACILITIES                         100\n",
       "16 CONDOS - 2-10 UNIT WITH COMMERCIAL UNIT       96\n",
       "33 EDUCATIONAL FACILITIES                        69\n",
       "32 HOSPITAL AND HEALTH FACILITIES                59\n",
       "48 CONDO TERRACES/GARDENS/CABANAS                47\n",
       "23 LOFT BUILDINGS                                46\n",
       "11A CONDO-RENTALS                                43\n",
       "35 INDOOR PUBLIC AND CULTURAL FACILITIES         32\n",
       "28 COMMERCIAL CONDOS                             30\n",
       "49 CONDO WAREHOUSES/FACTORY/INDUS                30\n",
       "38 ASYLUMS AND HOMES                             25\n",
       "36 OUTDOOR RECREATIONAL FACILITIES               14\n",
       "42 CONDO CULTURAL/MEDICAL/EDUCATIONAL/ETC        13\n",
       "34 THEATRES                                      12\n",
       "25 LUXURY HOTELS                                 12\n",
       "18 TAX CLASS 3 - UNTILITY PROPERTIES              4\n",
       "40 SELECTED GOVERNMENTAL FACILITIES               2\n",
       "39 TRANSPORTATION FACILITIES                      2\n",
       "11 SPECIAL CONDO BILLING LOTS                     2\n",
       "Name: BUILDING_CLASS_CATEGORY, dtype: int64"
      ]
     },
     "execution_count": 33,
     "metadata": {},
     "output_type": "execute_result"
    }
   ],
   "source": [
    "df.BUILDING_CLASS_CATEGORY.value_counts()"
   ]
  },
  {
   "cell_type": "code",
   "execution_count": 34,
   "metadata": {},
   "outputs": [],
   "source": [
    "# TAX CLASS AT PRESENT"
   ]
  },
  {
   "cell_type": "code",
   "execution_count": 35,
   "metadata": {},
   "outputs": [
    {
     "data": {
      "text/plain": [
       "11"
      ]
     },
     "execution_count": 35,
     "metadata": {},
     "output_type": "execute_result"
    }
   ],
   "source": [
    "df.TAX_CLASS_AT_PRESENT.nunique()"
   ]
  },
  {
   "cell_type": "code",
   "execution_count": 36,
   "metadata": {},
   "outputs": [
    {
     "data": {
      "text/plain": [
       "1     38633\n",
       "2     30919\n",
       "4      6140\n",
       "2A     2521\n",
       "2C     1915\n",
       "1A     1444\n",
       "1B     1234\n",
       "2B      814\n",
       "        738\n",
       "1C      186\n",
       "3         4\n",
       "Name: TAX_CLASS_AT_PRESENT, dtype: int64"
      ]
     },
     "execution_count": 36,
     "metadata": {},
     "output_type": "execute_result"
    }
   ],
   "source": [
    "df.TAX_CLASS_AT_PRESENT.value_counts()"
   ]
  },
  {
   "cell_type": "code",
   "execution_count": 37,
   "metadata": {},
   "outputs": [
    {
     "data": {
      "text/plain": [
       "738"
      ]
     },
     "execution_count": 37,
     "metadata": {},
     "output_type": "execute_result"
    }
   ],
   "source": [
    "count=0\n",
    "for a in df[\"TAX_CLASS_AT_PRESENT\"]:\n",
    "    if(a==\" \"):\n",
    "        count = count + 1\n",
    "count"
   ]
  },
  {
   "cell_type": "code",
   "execution_count": 38,
   "metadata": {},
   "outputs": [
    {
     "data": {
      "text/plain": [
       "0.8728769456403462"
      ]
     },
     "execution_count": 38,
     "metadata": {},
     "output_type": "execute_result"
    }
   ],
   "source": [
    "count/len(df) *100"
   ]
  },
  {
   "cell_type": "code",
   "execution_count": 39,
   "metadata": {},
   "outputs": [
    {
     "data": {
      "text/plain": [
       "(84548, 22)"
      ]
     },
     "execution_count": 39,
     "metadata": {},
     "output_type": "execute_result"
    }
   ],
   "source": [
    "df.shape"
   ]
  },
  {
   "cell_type": "code",
   "execution_count": 40,
   "metadata": {},
   "outputs": [],
   "source": [
    "# You may choose to remove these records. However, on seeing the columns ahaed, we find out that there are a lot of null values over there as well.\n",
    "# So we can't afford to remove values straight away from here."
   ]
  },
  {
   "cell_type": "code",
   "execution_count": 41,
   "metadata": {},
   "outputs": [],
   "source": [
    "# BLOCK"
   ]
  },
  {
   "cell_type": "code",
   "execution_count": 42,
   "metadata": {},
   "outputs": [
    {
     "data": {
      "text/plain": [
       "11566"
      ]
     },
     "execution_count": 42,
     "metadata": {},
     "output_type": "execute_result"
    }
   ],
   "source": [
    "df.BLOCK.nunique()"
   ]
  },
  {
   "cell_type": "code",
   "execution_count": 43,
   "metadata": {},
   "outputs": [],
   "source": [
    "for a in df[\"BLOCK\"]:\n",
    "    if(a%1!=0):\n",
    "        print(\"not integer\")"
   ]
  },
  {
   "cell_type": "code",
   "execution_count": 44,
   "metadata": {},
   "outputs": [],
   "source": [
    "# LOT"
   ]
  },
  {
   "cell_type": "code",
   "execution_count": 45,
   "metadata": {},
   "outputs": [
    {
     "data": {
      "text/plain": [
       "2627"
      ]
     },
     "execution_count": 45,
     "metadata": {},
     "output_type": "execute_result"
    }
   ],
   "source": [
    "df.LOT.nunique()"
   ]
  },
  {
   "cell_type": "code",
   "execution_count": 46,
   "metadata": {},
   "outputs": [],
   "source": [
    "for a in df[\"LOT\"]:\n",
    "    if(a%1!=0):\n",
    "        print(\"not integer\")"
   ]
  },
  {
   "cell_type": "code",
   "execution_count": 47,
   "metadata": {},
   "outputs": [],
   "source": [
    "# EASE-MENT"
   ]
  },
  {
   "cell_type": "code",
   "execution_count": 48,
   "metadata": {},
   "outputs": [
    {
     "data": {
      "text/plain": [
       "1"
      ]
     },
     "execution_count": 48,
     "metadata": {},
     "output_type": "execute_result"
    }
   ],
   "source": [
    "df.EASEMENT.nunique()"
   ]
  },
  {
   "cell_type": "code",
   "execution_count": 49,
   "metadata": {},
   "outputs": [
    {
     "data": {
      "text/plain": [
       "     84548\n",
       "Name: EASEMENT, dtype: int64"
      ]
     },
     "execution_count": 49,
     "metadata": {},
     "output_type": "execute_result"
    }
   ],
   "source": [
    "df.EASEMENT.value_counts()"
   ]
  },
  {
   "cell_type": "code",
   "execution_count": 50,
   "metadata": {},
   "outputs": [],
   "source": [
    "df.drop(['EASEMENT'] , inplace=True, axis=1)"
   ]
  },
  {
   "cell_type": "code",
   "execution_count": 51,
   "metadata": {},
   "outputs": [],
   "source": [
    "#  BUILDING_CLASS_AT_PRESENT"
   ]
  },
  {
   "cell_type": "code",
   "execution_count": 52,
   "metadata": {},
   "outputs": [
    {
     "data": {
      "text/plain": [
       "167"
      ]
     },
     "execution_count": 52,
     "metadata": {},
     "output_type": "execute_result"
    }
   ],
   "source": [
    "df.BUILDING_CLASS_AT_PRESENT.nunique()"
   ]
  },
  {
   "cell_type": "code",
   "execution_count": 53,
   "metadata": {},
   "outputs": [],
   "source": [
    "import re\n",
    "rex = re.compile(\"^[A-Z][0-9]$\")\n",
    "for a in df[\"BUILDING_CLASS_AT_PRESENT\"]:\n",
    "    if rex.match(a)==False:\n",
    "        print(\"True\")\n"
   ]
  },
  {
   "cell_type": "code",
   "execution_count": 54,
   "metadata": {},
   "outputs": [],
   "source": [
    "# ADDRESS"
   ]
  },
  {
   "cell_type": "code",
   "execution_count": 55,
   "metadata": {},
   "outputs": [
    {
     "data": {
      "text/plain": [
       "(84548, 21)"
      ]
     },
     "execution_count": 55,
     "metadata": {},
     "output_type": "execute_result"
    }
   ],
   "source": [
    "df[df.ADDRESS != \" \"].shape"
   ]
  },
  {
   "cell_type": "code",
   "execution_count": 56,
   "metadata": {},
   "outputs": [],
   "source": [
    "# Apartment number "
   ]
  },
  {
   "cell_type": "code",
   "execution_count": 57,
   "metadata": {},
   "outputs": [],
   "source": [
    "# A lot of records do not have an appartment number. It could be possible that the appartment number is the one mentioned at the end of a few addresses."
   ]
  },
  {
   "cell_type": "code",
   "execution_count": 58,
   "metadata": {},
   "outputs": [],
   "source": [
    "# ZIP CODE"
   ]
  },
  {
   "cell_type": "code",
   "execution_count": 59,
   "metadata": {},
   "outputs": [
    {
     "data": {
      "text/plain": [
       "186"
      ]
     },
     "execution_count": 59,
     "metadata": {},
     "output_type": "execute_result"
    }
   ],
   "source": [
    "df.ZIP_CODE.nunique()"
   ]
  },
  {
   "cell_type": "code",
   "execution_count": 60,
   "metadata": {},
   "outputs": [
    {
     "data": {
      "text/plain": [
       "10314    1687\n",
       "11354    1384\n",
       "11201    1324\n",
       "11235    1312\n",
       "11234    1165\n",
       "         ... \n",
       "10105       5\n",
       "10281       1\n",
       "10167       1\n",
       "10803       1\n",
       "11430       1\n",
       "Name: ZIP_CODE, Length: 186, dtype: int64"
      ]
     },
     "execution_count": 60,
     "metadata": {},
     "output_type": "execute_result"
    }
   ],
   "source": [
    "df.ZIP_CODE.value_counts()"
   ]
  },
  {
   "cell_type": "code",
   "execution_count": 61,
   "metadata": {},
   "outputs": [],
   "source": [
    "for a in df[\"ZIP_CODE\"]:\n",
    "    if(a%1!=0):\n",
    "        print(\"not integer\")"
   ]
  },
  {
   "cell_type": "code",
   "execution_count": 62,
   "metadata": {},
   "outputs": [
    {
     "data": {
      "text/plain": [
       "0    982\n",
       "Name: ZIP_CODE, dtype: int64"
      ]
     },
     "execution_count": 62,
     "metadata": {},
     "output_type": "execute_result"
    }
   ],
   "source": [
    "a=df[df.ZIP_CODE ==0]\n",
    "a.ZIP_CODE.value_counts()"
   ]
  },
  {
   "cell_type": "code",
   "execution_count": 63,
   "metadata": {},
   "outputs": [],
   "source": [
    "# Just like we discussed for TAX CLASS AT PRESENT, removing records may not be the best idea in this case.\n",
    "# This can be said with more affirmation for Zip code as we never require zip code to make the calculations. Hence, do no remove records due to it."
   ]
  },
  {
   "cell_type": "code",
   "execution_count": 64,
   "metadata": {},
   "outputs": [],
   "source": [
    "# Residential Units"
   ]
  },
  {
   "cell_type": "code",
   "execution_count": 65,
   "metadata": {},
   "outputs": [
    {
     "data": {
      "text/plain": [
       "1      34722\n",
       "0      24783\n",
       "2      16049\n",
       "3       4608\n",
       "4       1346\n",
       "       ...  \n",
       "164        1\n",
       "420        1\n",
       "165        1\n",
       "550        1\n",
       "283        1\n",
       "Name: RESIDENTIAL_UNITS, Length: 176, dtype: int64"
      ]
     },
     "execution_count": 65,
     "metadata": {},
     "output_type": "execute_result"
    }
   ],
   "source": [
    "df.RESIDENTIAL_UNITS.value_counts()"
   ]
  },
  {
   "cell_type": "code",
   "execution_count": 66,
   "metadata": {},
   "outputs": [
    {
     "data": {
      "text/plain": [
       "count    84548.000000\n",
       "mean         2.025264\n",
       "std         16.721037\n",
       "min          0.000000\n",
       "25%          0.000000\n",
       "50%          1.000000\n",
       "75%          2.000000\n",
       "max       1844.000000\n",
       "Name: RESIDENTIAL_UNITS, dtype: float64"
      ]
     },
     "execution_count": 66,
     "metadata": {},
     "output_type": "execute_result"
    }
   ],
   "source": [
    "df.RESIDENTIAL_UNITS.describe()"
   ]
  },
  {
   "cell_type": "code",
   "execution_count": 67,
   "metadata": {},
   "outputs": [],
   "source": [
    "# Max too high. Could be outlier"
   ]
  },
  {
   "cell_type": "code",
   "execution_count": 68,
   "metadata": {},
   "outputs": [
    {
     "name": "stdout",
     "output_type": "stream",
     "text": [
      "-3.0 5.0\n"
     ]
    },
    {
     "data": {
      "image/png": "[encoded data removed]",
      "text/plain": [
       "<Figure size 432x288 with 1 Axes>"
      ]
     },
     "metadata": {
      "needs_background": "light"
     },
     "output_type": "display_data"
    }
   ],
   "source": [
    "outlier(df.RESIDENTIAL_UNITS)"
   ]
  },
  {
   "cell_type": "code",
   "execution_count": 69,
   "metadata": {},
   "outputs": [
    {
     "data": {
      "text/html": [
       "<div>\n",
       "<style scoped>\n",
       "    .dataframe tbody tr th:only-of-type {\n",
       "        vertical-align: middle;\n",
       "    }\n",
       "\n",
       "    .dataframe tbody tr th {\n",
       "        vertical-align: top;\n",
       "    }\n",
       "\n",
       "    .dataframe thead th {\n",
       "        text-align: right;\n",
       "    }\n",
       "</style>\n",
       "<table border=\"1\" class=\"dataframe\">\n",
       "  <thead>\n",
       "    <tr style=\"text-align: right;\">\n",
       "      <th></th>\n",
       "      <th>Index</th>\n",
       "      <th>BOROUGH</th>\n",
       "      <th>NEIGHBOURHOOD</th>\n",
       "      <th>BUILDING_CLASS_CATEGORY</th>\n",
       "      <th>TAX_CLASS_AT_PRESENT</th>\n",
       "      <th>BLOCK</th>\n",
       "      <th>LOT</th>\n",
       "      <th>BUILDING_CLASS_AT_PRESENT</th>\n",
       "      <th>ADDRESS</th>\n",
       "      <th>APPARTMENT_NUMBER</th>\n",
       "      <th>...</th>\n",
       "      <th>RESIDENTIAL_UNITS</th>\n",
       "      <th>COMMERCIAL_UNITS</th>\n",
       "      <th>TOTAL_UNITS</th>\n",
       "      <th>LAND_SQUARE_FEET</th>\n",
       "      <th>GROSS_SQUARE_FEET</th>\n",
       "      <th>YEAR_BUILT</th>\n",
       "      <th>TAX_CLASS_AT_TIME_OF_SALE</th>\n",
       "      <th>BUILDING_CLASS_AT_TIME_OF_SALE</th>\n",
       "      <th>SALE_PRICE</th>\n",
       "      <th>SALE_DATE</th>\n",
       "    </tr>\n",
       "  </thead>\n",
       "  <tbody>\n",
       "    <tr>\n",
       "      <th>1</th>\n",
       "      <td>2</td>\n",
       "      <td>Manhattan</td>\n",
       "      <td>ALPHABET CITY</td>\n",
       "      <td>07 RENTALS - WALKUP APARTMENTS</td>\n",
       "      <td>2</td>\n",
       "      <td>399</td>\n",
       "      <td>26</td>\n",
       "      <td>C7</td>\n",
       "      <td>234 EAST 4TH   STREET</td>\n",
       "      <td></td>\n",
       "      <td>...</td>\n",
       "      <td>28</td>\n",
       "      <td>3</td>\n",
       "      <td>31</td>\n",
       "      <td>4616</td>\n",
       "      <td>18690</td>\n",
       "      <td>1900</td>\n",
       "      <td>2</td>\n",
       "      <td>C7</td>\n",
       "      <td>-</td>\n",
       "      <td>2016-12-14 00:00:00</td>\n",
       "    </tr>\n",
       "    <tr>\n",
       "      <th>2</th>\n",
       "      <td>3</td>\n",
       "      <td>Manhattan</td>\n",
       "      <td>ALPHABET CITY</td>\n",
       "      <td>07 RENTALS - WALKUP APARTMENTS</td>\n",
       "      <td>2</td>\n",
       "      <td>399</td>\n",
       "      <td>39</td>\n",
       "      <td>C7</td>\n",
       "      <td>197 EAST 3RD   STREET</td>\n",
       "      <td></td>\n",
       "      <td>...</td>\n",
       "      <td>16</td>\n",
       "      <td>1</td>\n",
       "      <td>17</td>\n",
       "      <td>2212</td>\n",
       "      <td>7803</td>\n",
       "      <td>1900</td>\n",
       "      <td>2</td>\n",
       "      <td>C7</td>\n",
       "      <td>-</td>\n",
       "      <td>2016-12-09 00:00:00</td>\n",
       "    </tr>\n",
       "    <tr>\n",
       "      <th>3</th>\n",
       "      <td>4</td>\n",
       "      <td>Manhattan</td>\n",
       "      <td>ALPHABET CITY</td>\n",
       "      <td>07 RENTALS - WALKUP APARTMENTS</td>\n",
       "      <td>2B</td>\n",
       "      <td>402</td>\n",
       "      <td>21</td>\n",
       "      <td>C4</td>\n",
       "      <td>154 EAST 7TH STREET</td>\n",
       "      <td></td>\n",
       "      <td>...</td>\n",
       "      <td>10</td>\n",
       "      <td>0</td>\n",
       "      <td>10</td>\n",
       "      <td>2272</td>\n",
       "      <td>6794</td>\n",
       "      <td>1913</td>\n",
       "      <td>2</td>\n",
       "      <td>C4</td>\n",
       "      <td>3936272</td>\n",
       "      <td>2016-09-23 00:00:00</td>\n",
       "    </tr>\n",
       "    <tr>\n",
       "      <th>4</th>\n",
       "      <td>5</td>\n",
       "      <td>Manhattan</td>\n",
       "      <td>ALPHABET CITY</td>\n",
       "      <td>07 RENTALS - WALKUP APARTMENTS</td>\n",
       "      <td>2A</td>\n",
       "      <td>404</td>\n",
       "      <td>55</td>\n",
       "      <td>C2</td>\n",
       "      <td>301 EAST 10TH   STREET</td>\n",
       "      <td></td>\n",
       "      <td>...</td>\n",
       "      <td>6</td>\n",
       "      <td>0</td>\n",
       "      <td>6</td>\n",
       "      <td>2369</td>\n",
       "      <td>4615</td>\n",
       "      <td>1900</td>\n",
       "      <td>2</td>\n",
       "      <td>C2</td>\n",
       "      <td>8000000</td>\n",
       "      <td>2016-11-17 00:00:00</td>\n",
       "    </tr>\n",
       "    <tr>\n",
       "      <th>5</th>\n",
       "      <td>6</td>\n",
       "      <td>Manhattan</td>\n",
       "      <td>ALPHABET CITY</td>\n",
       "      <td>07 RENTALS - WALKUP APARTMENTS</td>\n",
       "      <td>2</td>\n",
       "      <td>405</td>\n",
       "      <td>16</td>\n",
       "      <td>C4</td>\n",
       "      <td>516 EAST 12TH   STREET</td>\n",
       "      <td></td>\n",
       "      <td>...</td>\n",
       "      <td>20</td>\n",
       "      <td>0</td>\n",
       "      <td>20</td>\n",
       "      <td>2581</td>\n",
       "      <td>9730</td>\n",
       "      <td>1900</td>\n",
       "      <td>2</td>\n",
       "      <td>C4</td>\n",
       "      <td>-</td>\n",
       "      <td>2017-07-20 00:00:00</td>\n",
       "    </tr>\n",
       "    <tr>\n",
       "      <th>...</th>\n",
       "      <td>...</td>\n",
       "      <td>...</td>\n",
       "      <td>...</td>\n",
       "      <td>...</td>\n",
       "      <td>...</td>\n",
       "      <td>...</td>\n",
       "      <td>...</td>\n",
       "      <td>...</td>\n",
       "      <td>...</td>\n",
       "      <td>...</td>\n",
       "      <td>...</td>\n",
       "      <td>...</td>\n",
       "      <td>...</td>\n",
       "      <td>...</td>\n",
       "      <td>...</td>\n",
       "      <td>...</td>\n",
       "      <td>...</td>\n",
       "      <td>...</td>\n",
       "      <td>...</td>\n",
       "      <td>...</td>\n",
       "      <td>...</td>\n",
       "    </tr>\n",
       "    <tr>\n",
       "      <th>82288</th>\n",
       "      <td>82289</td>\n",
       "      <td>Staten Island</td>\n",
       "      <td>ROSEBANK</td>\n",
       "      <td>07 RENTALS - WALKUP APARTMENTS</td>\n",
       "      <td>2</td>\n",
       "      <td>2972</td>\n",
       "      <td>70</td>\n",
       "      <td>C7</td>\n",
       "      <td>162 ST MARYS AVENUE</td>\n",
       "      <td></td>\n",
       "      <td>...</td>\n",
       "      <td>9</td>\n",
       "      <td>2</td>\n",
       "      <td>11</td>\n",
       "      <td>9800</td>\n",
       "      <td>6875</td>\n",
       "      <td>1931</td>\n",
       "      <td>2</td>\n",
       "      <td>C7</td>\n",
       "      <td>1050000</td>\n",
       "      <td>2017-02-15 00:00:00</td>\n",
       "    </tr>\n",
       "    <tr>\n",
       "      <th>82868</th>\n",
       "      <td>82869</td>\n",
       "      <td>Staten Island</td>\n",
       "      <td>SOUTH BEACH</td>\n",
       "      <td>07 RENTALS - WALKUP APARTMENTS</td>\n",
       "      <td>2</td>\n",
       "      <td>3124</td>\n",
       "      <td>102</td>\n",
       "      <td>C1</td>\n",
       "      <td>83 FR CAPODANNO BLVD</td>\n",
       "      <td></td>\n",
       "      <td>...</td>\n",
       "      <td>19</td>\n",
       "      <td>0</td>\n",
       "      <td>19</td>\n",
       "      <td>7400</td>\n",
       "      <td>4060</td>\n",
       "      <td>1931</td>\n",
       "      <td>2</td>\n",
       "      <td>C1</td>\n",
       "      <td>735000</td>\n",
       "      <td>2017-02-14 00:00:00</td>\n",
       "    </tr>\n",
       "    <tr>\n",
       "      <th>82975</th>\n",
       "      <td>82976</td>\n",
       "      <td>Staten Island</td>\n",
       "      <td>STAPLETON</td>\n",
       "      <td>07 RENTALS - WALKUP APARTMENTS</td>\n",
       "      <td>2B</td>\n",
       "      <td>526</td>\n",
       "      <td>6</td>\n",
       "      <td>C1</td>\n",
       "      <td>79 BROAD STREET</td>\n",
       "      <td></td>\n",
       "      <td>...</td>\n",
       "      <td>8</td>\n",
       "      <td>0</td>\n",
       "      <td>8</td>\n",
       "      <td>6484</td>\n",
       "      <td>8571</td>\n",
       "      <td>1931</td>\n",
       "      <td>2</td>\n",
       "      <td>C1</td>\n",
       "      <td>1600000</td>\n",
       "      <td>2017-03-17 00:00:00</td>\n",
       "    </tr>\n",
       "    <tr>\n",
       "      <th>83120</th>\n",
       "      <td>83121</td>\n",
       "      <td>Staten Island</td>\n",
       "      <td>SUNNYSIDE</td>\n",
       "      <td>07 RENTALS - WALKUP APARTMENTS</td>\n",
       "      <td>2B</td>\n",
       "      <td>655</td>\n",
       "      <td>30</td>\n",
       "      <td>C1</td>\n",
       "      <td>17 OSWEGO STREET</td>\n",
       "      <td></td>\n",
       "      <td>...</td>\n",
       "      <td>8</td>\n",
       "      <td>0</td>\n",
       "      <td>8</td>\n",
       "      <td>8000</td>\n",
       "      <td>5200</td>\n",
       "      <td>1932</td>\n",
       "      <td>2</td>\n",
       "      <td>C1</td>\n",
       "      <td>800000</td>\n",
       "      <td>2016-11-01 00:00:00</td>\n",
       "    </tr>\n",
       "    <tr>\n",
       "      <th>83232</th>\n",
       "      <td>83233</td>\n",
       "      <td>Staten Island</td>\n",
       "      <td>TOMPKINSVILLE</td>\n",
       "      <td>07 RENTALS - WALKUP APARTMENTS</td>\n",
       "      <td>2</td>\n",
       "      <td>574</td>\n",
       "      <td>58</td>\n",
       "      <td>C1</td>\n",
       "      <td>45 AVON PLACE</td>\n",
       "      <td></td>\n",
       "      <td>...</td>\n",
       "      <td>18</td>\n",
       "      <td>0</td>\n",
       "      <td>18</td>\n",
       "      <td>5040</td>\n",
       "      <td>9000</td>\n",
       "      <td>1931</td>\n",
       "      <td>2</td>\n",
       "      <td>C1</td>\n",
       "      <td>-</td>\n",
       "      <td>2017-04-11 00:00:00</td>\n",
       "    </tr>\n",
       "  </tbody>\n",
       "</table>\n",
       "<p>2767 rows × 21 columns</p>\n",
       "</div>"
      ],
      "text/plain": [
       "       Index        BOROUGH  NEIGHBOURHOOD         BUILDING_CLASS_CATEGORY  \\\n",
       "1          2      Manhattan  ALPHABET CITY  07 RENTALS - WALKUP APARTMENTS   \n",
       "2          3      Manhattan  ALPHABET CITY  07 RENTALS - WALKUP APARTMENTS   \n",
       "3          4      Manhattan  ALPHABET CITY  07 RENTALS - WALKUP APARTMENTS   \n",
       "4          5      Manhattan  ALPHABET CITY  07 RENTALS - WALKUP APARTMENTS   \n",
       "5          6      Manhattan  ALPHABET CITY  07 RENTALS - WALKUP APARTMENTS   \n",
       "...      ...            ...            ...                             ...   \n",
       "82288  82289  Staten Island       ROSEBANK  07 RENTALS - WALKUP APARTMENTS   \n",
       "82868  82869  Staten Island    SOUTH BEACH  07 RENTALS - WALKUP APARTMENTS   \n",
       "82975  82976  Staten Island      STAPLETON  07 RENTALS - WALKUP APARTMENTS   \n",
       "83120  83121  Staten Island      SUNNYSIDE  07 RENTALS - WALKUP APARTMENTS   \n",
       "83232  83233  Staten Island  TOMPKINSVILLE  07 RENTALS - WALKUP APARTMENTS   \n",
       "\n",
       "      TAX_CLASS_AT_PRESENT  BLOCK  LOT BUILDING_CLASS_AT_PRESENT  \\\n",
       "1                        2    399   26                        C7   \n",
       "2                        2    399   39                        C7   \n",
       "3                       2B    402   21                        C4   \n",
       "4                       2A    404   55                        C2   \n",
       "5                        2    405   16                        C4   \n",
       "...                    ...    ...  ...                       ...   \n",
       "82288                    2   2972   70                        C7   \n",
       "82868                    2   3124  102                        C1   \n",
       "82975                   2B    526    6                        C1   \n",
       "83120                   2B    655   30                        C1   \n",
       "83232                    2    574   58                        C1   \n",
       "\n",
       "                      ADDRESS APPARTMENT_NUMBER  ...  RESIDENTIAL_UNITS  \\\n",
       "1       234 EAST 4TH   STREET                    ...                 28   \n",
       "2       197 EAST 3RD   STREET                    ...                 16   \n",
       "3         154 EAST 7TH STREET                    ...                 10   \n",
       "4      301 EAST 10TH   STREET                    ...                  6   \n",
       "5      516 EAST 12TH   STREET                    ...                 20   \n",
       "...                       ...               ...  ...                ...   \n",
       "82288     162 ST MARYS AVENUE                    ...                  9   \n",
       "82868    83 FR CAPODANNO BLVD                    ...                 19   \n",
       "82975         79 BROAD STREET                    ...                  8   \n",
       "83120        17 OSWEGO STREET                    ...                  8   \n",
       "83232           45 AVON PLACE                    ...                 18   \n",
       "\n",
       "       COMMERCIAL_UNITS  TOTAL_UNITS  LAND_SQUARE_FEET GROSS_SQUARE_FEET  \\\n",
       "1                     3           31              4616             18690   \n",
       "2                     1           17              2212              7803   \n",
       "3                     0           10              2272              6794   \n",
       "4                     0            6              2369              4615   \n",
       "5                     0           20              2581              9730   \n",
       "...                 ...          ...               ...               ...   \n",
       "82288                 2           11              9800              6875   \n",
       "82868                 0           19              7400              4060   \n",
       "82975                 0            8              6484              8571   \n",
       "83120                 0            8              8000              5200   \n",
       "83232                 0           18              5040              9000   \n",
       "\n",
       "      YEAR_BUILT  TAX_CLASS_AT_TIME_OF_SALE  BUILDING_CLASS_AT_TIME_OF_SALE  \\\n",
       "1           1900                          2                              C7   \n",
       "2           1900                          2                              C7   \n",
       "3           1913                          2                              C4   \n",
       "4           1900                          2                              C2   \n",
       "5           1900                          2                              C4   \n",
       "...          ...                        ...                             ...   \n",
       "82288       1931                          2                              C7   \n",
       "82868       1931                          2                              C1   \n",
       "82975       1931                          2                              C1   \n",
       "83120       1932                          2                              C1   \n",
       "83232       1931                          2                              C1   \n",
       "\n",
       "      SALE_PRICE            SALE_DATE  \n",
       "1            -    2016-12-14 00:00:00  \n",
       "2            -    2016-12-09 00:00:00  \n",
       "3        3936272  2016-09-23 00:00:00  \n",
       "4        8000000  2016-11-17 00:00:00  \n",
       "5            -    2017-07-20 00:00:00  \n",
       "...          ...                  ...  \n",
       "82288    1050000  2017-02-15 00:00:00  \n",
       "82868     735000  2017-02-14 00:00:00  \n",
       "82975    1600000  2017-03-17 00:00:00  \n",
       "83120     800000  2016-11-01 00:00:00  \n",
       "83232        -    2017-04-11 00:00:00  \n",
       "\n",
       "[2767 rows x 21 columns]"
      ]
     },
     "execution_count": 69,
     "metadata": {},
     "output_type": "execute_result"
    }
   ],
   "source": [
    "df[df.RESIDENTIAL_UNITS > 5]"
   ]
  },
  {
   "cell_type": "code",
   "execution_count": 70,
   "metadata": {},
   "outputs": [],
   "source": [
    "# Commertial Units"
   ]
  },
  {
   "cell_type": "code",
   "execution_count": 71,
   "metadata": {},
   "outputs": [
    {
     "data": {
      "text/plain": [
       "0       79429\n",
       "1        3558\n",
       "2         817\n",
       "3         259\n",
       "4         137\n",
       "5          74\n",
       "6          70\n",
       "7          31\n",
       "8          26\n",
       "9          20\n",
       "10         17\n",
       "12         12\n",
       "15         11\n",
       "11         10\n",
       "17          6\n",
       "14          6\n",
       "254         4\n",
       "13          4\n",
       "35          4\n",
       "20          4\n",
       "19          3\n",
       "42          3\n",
       "22          3\n",
       "18          3\n",
       "422         2\n",
       "436         2\n",
       "26          2\n",
       "25          2\n",
       "16          2\n",
       "126         2\n",
       "73          1\n",
       "67          1\n",
       "318         1\n",
       "147         1\n",
       "2261        1\n",
       "62          1\n",
       "59          1\n",
       "184         1\n",
       "56          1\n",
       "55          1\n",
       "52          1\n",
       "51          1\n",
       "49          1\n",
       "172         1\n",
       "38          1\n",
       "34          1\n",
       "32          1\n",
       "31          1\n",
       "30          1\n",
       "28          1\n",
       "91          1\n",
       "27          1\n",
       "24          1\n",
       "21          1\n",
       "23          1\n",
       "Name: COMMERCIAL_UNITS, dtype: int64"
      ]
     },
     "execution_count": 71,
     "metadata": {},
     "output_type": "execute_result"
    }
   ],
   "source": [
    "df.COMMERCIAL_UNITS.value_counts()"
   ]
  },
  {
   "cell_type": "code",
   "execution_count": 72,
   "metadata": {},
   "outputs": [],
   "source": [
    "# 2261 too high could be outlier"
   ]
  },
  {
   "cell_type": "code",
   "execution_count": 73,
   "metadata": {},
   "outputs": [
    {
     "name": "stdout",
     "output_type": "stream",
     "text": [
      "0.0 0.0\n"
     ]
    },
    {
     "data": {
      "image/png": "[encoded data removed]",
      "text/plain": [
       "<Figure size 432x288 with 1 Axes>"
      ]
     },
     "metadata": {
      "needs_background": "light"
     },
     "output_type": "display_data"
    }
   ],
   "source": [
    "outlier(df.COMMERCIAL_UNITS)"
   ]
  },
  {
   "cell_type": "code",
   "execution_count": 74,
   "metadata": {},
   "outputs": [],
   "source": [
    "sum= df[\"COMMERCIAL_UNITS\"]+df[\"RESIDENTIAL_UNITS\"]\n",
    "df[\"test\"]=sum"
   ]
  },
  {
   "cell_type": "code",
   "execution_count": 75,
   "metadata": {},
   "outputs": [
    {
     "data": {
      "text/plain": [
       "False"
      ]
     },
     "execution_count": 75,
     "metadata": {},
     "output_type": "execute_result"
    }
   ],
   "source": [
    "(df[\"TOTAL_UNITS\"]).equals(df[\"test\"])"
   ]
  },
  {
   "cell_type": "code",
   "execution_count": 76,
   "metadata": {},
   "outputs": [
    {
     "data": {
      "text/plain": [
       "2650"
      ]
     },
     "execution_count": 76,
     "metadata": {},
     "output_type": "execute_result"
    }
   ],
   "source": [
    "c=0\n",
    "a= df[\"TOTAL_UNITS\"]- df[\"test\"]\n",
    "for i in a:\n",
    "    if (i!=0):\n",
    "        c=c+1\n",
    "c"
   ]
  },
  {
   "cell_type": "code",
   "execution_count": 77,
   "metadata": {},
   "outputs": [],
   "source": [
    "# Records where it does not match"
   ]
  },
  {
   "cell_type": "code",
   "execution_count": 78,
   "metadata": {},
   "outputs": [],
   "source": [
    "# Land Square Feet "
   ]
  },
  {
   "cell_type": "code",
   "execution_count": 79,
   "metadata": {},
   "outputs": [
    {
     "data": {
      "text/plain": [
       " -       26252\n",
       "0        10326\n",
       "2000      3919\n",
       "2500      3470\n",
       "4000      3044\n",
       "         ...  \n",
       "4101         1\n",
       "34915        1\n",
       "15352        1\n",
       "953          1\n",
       "3182         1\n",
       "Name: LAND_SQUARE_FEET, Length: 6062, dtype: int64"
      ]
     },
     "execution_count": 79,
     "metadata": {},
     "output_type": "execute_result"
    }
   ],
   "source": [
    "df.LAND_SQUARE_FEET.value_counts()"
   ]
  },
  {
   "cell_type": "code",
   "execution_count": 80,
   "metadata": {},
   "outputs": [
    {
     "data": {
      "text/plain": [
       "6062"
      ]
     },
     "execution_count": 80,
     "metadata": {},
     "output_type": "execute_result"
    }
   ],
   "source": [
    "df.LAND_SQUARE_FEET.nunique()"
   ]
  },
  {
   "cell_type": "code",
   "execution_count": 81,
   "metadata": {},
   "outputs": [],
   "source": [
    "# Can remove \"-\" and \"0\""
   ]
  },
  {
   "cell_type": "code",
   "execution_count": 82,
   "metadata": {},
   "outputs": [],
   "source": [
    "# Gross square feet"
   ]
  },
  {
   "cell_type": "code",
   "execution_count": 83,
   "metadata": {},
   "outputs": [
    {
     "data": {
      "text/plain": [
       " -      27612\n",
       "0       11417\n",
       "2400      386\n",
       "1800      361\n",
       "2000      359\n",
       "        ...  \n",
       "4364        1\n",
       "2931        1\n",
       "889         1\n",
       "4293        1\n",
       "4231        1\n",
       "Name: GROSS_SQUARE_FEET, Length: 5691, dtype: int64"
      ]
     },
     "execution_count": 83,
     "metadata": {},
     "output_type": "execute_result"
    }
   ],
   "source": [
    "df.GROSS_SQUARE_FEET.value_counts()"
   ]
  },
  {
   "cell_type": "code",
   "execution_count": 84,
   "metadata": {},
   "outputs": [
    {
     "data": {
      "text/plain": [
       "5691"
      ]
     },
     "execution_count": 84,
     "metadata": {},
     "output_type": "execute_result"
    }
   ],
   "source": [
    "df.GROSS_SQUARE_FEET.nunique()"
   ]
  },
  {
   "cell_type": "code",
   "execution_count": 85,
   "metadata": {},
   "outputs": [],
   "source": [
    "# Can remove \"-\" and \"0\""
   ]
  },
  {
   "cell_type": "code",
   "execution_count": 86,
   "metadata": {},
   "outputs": [],
   "source": [
    "# Year Built"
   ]
  },
  {
   "cell_type": "code",
   "execution_count": 87,
   "metadata": {},
   "outputs": [
    {
     "data": {
      "text/plain": [
       "count    84548.000000\n",
       "mean      1789.322976\n",
       "std        537.344993\n",
       "min          0.000000\n",
       "25%       1920.000000\n",
       "50%       1940.000000\n",
       "75%       1965.000000\n",
       "max       2017.000000\n",
       "Name: YEAR_BUILT, dtype: float64"
      ]
     },
     "execution_count": 87,
     "metadata": {},
     "output_type": "execute_result"
    }
   ],
   "source": [
    "df.YEAR_BUILT.describe()"
   ]
  },
  {
   "cell_type": "code",
   "execution_count": 88,
   "metadata": {},
   "outputs": [
    {
     "data": {
      "text/plain": [
       "array([   0, 1899, 1850, 1864, 1889, 1898, 1875, 1111, 1890, 1895, 1870,\n",
       "       1840, 1851, 1880, 1846, 1896, 1888, 1892, 1894, 1891, 1800, 1826,\n",
       "       1881, 1883, 1847, 1829, 1844, 1835, 1852, 1856, 1854, 1832, 1845,\n",
       "       1849, 1855, 1871, 1893, 1865, 1882, 1680], dtype=int64)"
      ]
     },
     "execution_count": 88,
     "metadata": {},
     "output_type": "execute_result"
    }
   ],
   "source": [
    "df[df.YEAR_BUILT < 1900].YEAR_BUILT.unique()"
   ]
  },
  {
   "cell_type": "code",
   "execution_count": 89,
   "metadata": {},
   "outputs": [],
   "source": [
    "# 0 and 1111 are wrong"
   ]
  },
  {
   "cell_type": "code",
   "execution_count": 90,
   "metadata": {},
   "outputs": [],
   "source": [
    "for a in df[\"YEAR_BUILT\"]:\n",
    "    if(a%1!=0):\n",
    "        print(\"not integer\")"
   ]
  },
  {
   "cell_type": "code",
   "execution_count": 91,
   "metadata": {},
   "outputs": [],
   "source": [
    "# TAX CLASS AT TIME OF SALE"
   ]
  },
  {
   "cell_type": "code",
   "execution_count": 92,
   "metadata": {},
   "outputs": [
    {
     "data": {
      "text/plain": [
       "1    41533\n",
       "2    36726\n",
       "4     6285\n",
       "3        4\n",
       "Name: TAX_CLASS_AT_TIME_OF_SALE, dtype: int64"
      ]
     },
     "execution_count": 92,
     "metadata": {},
     "output_type": "execute_result"
    }
   ],
   "source": [
    "df.TAX_CLASS_AT_TIME_OF_SALE.value_counts()"
   ]
  },
  {
   "cell_type": "code",
   "execution_count": 93,
   "metadata": {},
   "outputs": [],
   "source": [
    "# CLASS AT TIME OF SALE"
   ]
  },
  {
   "cell_type": "code",
   "execution_count": 94,
   "metadata": {},
   "outputs": [
    {
     "data": {
      "text/plain": [
       "R4    12989\n",
       "D4    12666\n",
       "A1     6751\n",
       "A5     5671\n",
       "B2     4918\n",
       "      ...  \n",
       "P7        1\n",
       "K8        1\n",
       "Y3        1\n",
       "I3        1\n",
       "Y1        1\n",
       "Name: BUILDING_CLASS_AT_TIME_OF_SALE, Length: 166, dtype: int64"
      ]
     },
     "execution_count": 94,
     "metadata": {},
     "output_type": "execute_result"
    }
   ],
   "source": [
    "df.BUILDING_CLASS_AT_TIME_OF_SALE.value_counts()"
   ]
  },
  {
   "cell_type": "code",
   "execution_count": 95,
   "metadata": {},
   "outputs": [
    {
     "data": {
      "text/html": [
       "<div>\n",
       "<style scoped>\n",
       "    .dataframe tbody tr th:only-of-type {\n",
       "        vertical-align: middle;\n",
       "    }\n",
       "\n",
       "    .dataframe tbody tr th {\n",
       "        vertical-align: top;\n",
       "    }\n",
       "\n",
       "    .dataframe thead th {\n",
       "        text-align: right;\n",
       "    }\n",
       "</style>\n",
       "<table border=\"1\" class=\"dataframe\">\n",
       "  <thead>\n",
       "    <tr style=\"text-align: right;\">\n",
       "      <th></th>\n",
       "      <th>Index</th>\n",
       "      <th>BOROUGH</th>\n",
       "      <th>NEIGHBOURHOOD</th>\n",
       "      <th>BUILDING_CLASS_CATEGORY</th>\n",
       "      <th>TAX_CLASS_AT_PRESENT</th>\n",
       "      <th>BLOCK</th>\n",
       "      <th>LOT</th>\n",
       "      <th>BUILDING_CLASS_AT_PRESENT</th>\n",
       "      <th>ADDRESS</th>\n",
       "      <th>APPARTMENT_NUMBER</th>\n",
       "      <th>...</th>\n",
       "      <th>COMMERCIAL_UNITS</th>\n",
       "      <th>TOTAL_UNITS</th>\n",
       "      <th>LAND_SQUARE_FEET</th>\n",
       "      <th>GROSS_SQUARE_FEET</th>\n",
       "      <th>YEAR_BUILT</th>\n",
       "      <th>TAX_CLASS_AT_TIME_OF_SALE</th>\n",
       "      <th>BUILDING_CLASS_AT_TIME_OF_SALE</th>\n",
       "      <th>SALE_PRICE</th>\n",
       "      <th>SALE_DATE</th>\n",
       "      <th>test</th>\n",
       "    </tr>\n",
       "  </thead>\n",
       "  <tbody>\n",
       "  </tbody>\n",
       "</table>\n",
       "<p>0 rows × 22 columns</p>\n",
       "</div>"
      ],
      "text/plain": [
       "Empty DataFrame\n",
       "Columns: [Index, BOROUGH, NEIGHBOURHOOD, BUILDING_CLASS_CATEGORY, TAX_CLASS_AT_PRESENT, BLOCK, LOT, BUILDING_CLASS_AT_PRESENT, ADDRESS, APPARTMENT_NUMBER, ZIP_CODE, RESIDENTIAL_UNITS, COMMERCIAL_UNITS, TOTAL_UNITS, LAND_SQUARE_FEET, GROSS_SQUARE_FEET, YEAR_BUILT, TAX_CLASS_AT_TIME_OF_SALE, BUILDING_CLASS_AT_TIME_OF_SALE, SALE_PRICE, SALE_DATE, test]\n",
       "Index: []\n",
       "\n",
       "[0 rows x 22 columns]"
      ]
     },
     "execution_count": 95,
     "metadata": {},
     "output_type": "execute_result"
    }
   ],
   "source": [
    "df[df.BUILDING_CLASS_AT_TIME_OF_SALE == 0]"
   ]
  },
  {
   "cell_type": "code",
   "execution_count": 96,
   "metadata": {},
   "outputs": [
    {
     "data": {
      "text/html": [
       "<div>\n",
       "<style scoped>\n",
       "    .dataframe tbody tr th:only-of-type {\n",
       "        vertical-align: middle;\n",
       "    }\n",
       "\n",
       "    .dataframe tbody tr th {\n",
       "        vertical-align: top;\n",
       "    }\n",
       "\n",
       "    .dataframe thead th {\n",
       "        text-align: right;\n",
       "    }\n",
       "</style>\n",
       "<table border=\"1\" class=\"dataframe\">\n",
       "  <thead>\n",
       "    <tr style=\"text-align: right;\">\n",
       "      <th></th>\n",
       "      <th>Index</th>\n",
       "      <th>BOROUGH</th>\n",
       "      <th>NEIGHBOURHOOD</th>\n",
       "      <th>BUILDING_CLASS_CATEGORY</th>\n",
       "      <th>TAX_CLASS_AT_PRESENT</th>\n",
       "      <th>BLOCK</th>\n",
       "      <th>LOT</th>\n",
       "      <th>BUILDING_CLASS_AT_PRESENT</th>\n",
       "      <th>ADDRESS</th>\n",
       "      <th>APPARTMENT_NUMBER</th>\n",
       "      <th>...</th>\n",
       "      <th>COMMERCIAL_UNITS</th>\n",
       "      <th>TOTAL_UNITS</th>\n",
       "      <th>LAND_SQUARE_FEET</th>\n",
       "      <th>GROSS_SQUARE_FEET</th>\n",
       "      <th>YEAR_BUILT</th>\n",
       "      <th>TAX_CLASS_AT_TIME_OF_SALE</th>\n",
       "      <th>BUILDING_CLASS_AT_TIME_OF_SALE</th>\n",
       "      <th>SALE_PRICE</th>\n",
       "      <th>SALE_DATE</th>\n",
       "      <th>test</th>\n",
       "    </tr>\n",
       "  </thead>\n",
       "  <tbody>\n",
       "  </tbody>\n",
       "</table>\n",
       "<p>0 rows × 22 columns</p>\n",
       "</div>"
      ],
      "text/plain": [
       "Empty DataFrame\n",
       "Columns: [Index, BOROUGH, NEIGHBOURHOOD, BUILDING_CLASS_CATEGORY, TAX_CLASS_AT_PRESENT, BLOCK, LOT, BUILDING_CLASS_AT_PRESENT, ADDRESS, APPARTMENT_NUMBER, ZIP_CODE, RESIDENTIAL_UNITS, COMMERCIAL_UNITS, TOTAL_UNITS, LAND_SQUARE_FEET, GROSS_SQUARE_FEET, YEAR_BUILT, TAX_CLASS_AT_TIME_OF_SALE, BUILDING_CLASS_AT_TIME_OF_SALE, SALE_PRICE, SALE_DATE, test]\n",
       "Index: []\n",
       "\n",
       "[0 rows x 22 columns]"
      ]
     },
     "execution_count": 96,
     "metadata": {},
     "output_type": "execute_result"
    }
   ],
   "source": [
    "df[df.BUILDING_CLASS_AT_TIME_OF_SALE == \" \"]"
   ]
  },
  {
   "cell_type": "code",
   "execution_count": 97,
   "metadata": {},
   "outputs": [],
   "source": [
    "# Sale Price"
   ]
  },
  {
   "cell_type": "code",
   "execution_count": 98,
   "metadata": {},
   "outputs": [
    {
     "data": {
      "text/plain": [
       "count     84548\n",
       "unique    10008\n",
       "top         -  \n",
       "freq      14561\n",
       "Name: SALE_PRICE, dtype: object"
      ]
     },
     "execution_count": 98,
     "metadata": {},
     "output_type": "execute_result"
    }
   ],
   "source": [
    "df.SALE_PRICE.describe()"
   ]
  },
  {
   "cell_type": "code",
   "execution_count": 99,
   "metadata": {},
   "outputs": [
    {
     "data": {
      "text/plain": [
       " -          14561\n",
       "0           10228\n",
       "10            766\n",
       "450000        427\n",
       "550000        416\n",
       "            ...  \n",
       "881412          1\n",
       "179500          1\n",
       "631579          1\n",
       "13226118        1\n",
       "2260672         1\n",
       "Name: SALE_PRICE, Length: 10008, dtype: int64"
      ]
     },
     "execution_count": 99,
     "metadata": {},
     "output_type": "execute_result"
    }
   ],
   "source": [
    "df.SALE_PRICE.value_counts()"
   ]
  },
  {
   "cell_type": "code",
   "execution_count": 100,
   "metadata": {},
   "outputs": [],
   "source": [
    "df=df[df.SALE_PRICE != ' -  ']"
   ]
  },
  {
   "cell_type": "code",
   "execution_count": 101,
   "metadata": {},
   "outputs": [],
   "source": [
    "df=df[df.SALE_PRICE != 0]"
   ]
  },
  {
   "cell_type": "code",
   "execution_count": 102,
   "metadata": {},
   "outputs": [
    {
     "data": {
      "text/plain": [
       "0           10228\n",
       "10            766\n",
       "450000        427\n",
       "550000        416\n",
       "650000        414\n",
       "            ...  \n",
       "267700          1\n",
       "521500          1\n",
       "259883          1\n",
       "13226118        1\n",
       "2260672         1\n",
       "Name: SALE_PRICE, Length: 10007, dtype: int64"
      ]
     },
     "execution_count": 102,
     "metadata": {},
     "output_type": "execute_result"
    }
   ],
   "source": [
    "df.SALE_PRICE.value_counts()"
   ]
  },
  {
   "cell_type": "code",
   "execution_count": 103,
   "metadata": {},
   "outputs": [],
   "source": [
    "# The records with values 0 and 10 must be incorrect"
   ]
  },
  {
   "cell_type": "code",
   "execution_count": 104,
   "metadata": {},
   "outputs": [],
   "source": [
    "# SALE DATE"
   ]
  },
  {
   "cell_type": "code",
   "execution_count": 105,
   "metadata": {},
   "outputs": [
    {
     "data": {
      "text/plain": [
       "2017-06-29 00:00:00    471\n",
       "2016-12-22 00:00:00    467\n",
       "2016-10-06 00:00:00    439\n",
       "2016-09-22 00:00:00    439\n",
       "2017-06-30 00:00:00    437\n",
       "                      ... \n",
       "2017-08-06 00:00:00      1\n",
       "2017-04-23 00:00:00      1\n",
       "2017-07-16 00:00:00      1\n",
       "2016-12-03 00:00:00      1\n",
       "2017-08-13 00:00:00      1\n",
       "Name: SALE_DATE, Length: 362, dtype: int64"
      ]
     },
     "execution_count": 105,
     "metadata": {},
     "output_type": "execute_result"
    }
   ],
   "source": [
    "df['SALE_DATE'].value_counts()"
   ]
  },
  {
   "cell_type": "code",
   "execution_count": 106,
   "metadata": {},
   "outputs": [],
   "source": [
    "df['SALE_DATE'] = pd.to_datetime(df['SALE_DATE'])"
   ]
  },
  {
   "cell_type": "code",
   "execution_count": 107,
   "metadata": {},
   "outputs": [
    {
     "data": {
      "text/plain": [
       "0       2017-07-19\n",
       "3       2016-09-23\n",
       "4       2016-11-17\n",
       "6       2016-09-23\n",
       "9       2016-11-07\n",
       "           ...    \n",
       "84543   2016-11-28\n",
       "84544   2017-04-21\n",
       "84545   2017-07-05\n",
       "84546   2016-12-21\n",
       "84547   2016-10-27\n",
       "Name: SALE_DATE, Length: 69987, dtype: datetime64[ns]"
      ]
     },
     "execution_count": 107,
     "metadata": {},
     "output_type": "execute_result"
    }
   ],
   "source": [
    "df['SALE_DATE']"
   ]
  },
  {
   "cell_type": "code",
   "execution_count": 108,
   "metadata": {},
   "outputs": [
    {
     "data": {
      "text/plain": [
       "(69987, 22)"
      ]
     },
     "execution_count": 108,
     "metadata": {},
     "output_type": "execute_result"
    }
   ],
   "source": [
    "df.shape"
   ]
  },
  {
   "cell_type": "code",
   "execution_count": 109,
   "metadata": {},
   "outputs": [],
   "source": [
    "df.to_csv(\"Nyc cleaned.csv\")"
   ]
  }
 ],
 "metadata": {
  "kernelspec": {
   "display_name": "Python 3",
   "language": "python",
   "name": "python3"
  },
  "language_info": {
   "codemirror_mode": {
    "name": "ipython",
    "version": 3
   },
   "file_extension": ".py",
   "mimetype": "text/x-python",
   "name": "python",
   "nbconvert_exporter": "python",
   "pygments_lexer": "ipython3",
   "version": "3.6.3"
  }
 },
 "nbformat": 4,
 "nbformat_minor": 4
}
