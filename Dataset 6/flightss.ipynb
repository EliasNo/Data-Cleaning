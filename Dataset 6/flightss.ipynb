{
 "cells": [
  {
   "cell_type": "code",
   "execution_count": 1,
   "metadata": {},
   "outputs": [],
   "source": [
    "import pandas as pd\n",
    "import numpy as np\n",
    "import matplotlib.pyplot as plt"
   ]
  },
  {
   "cell_type": "code",
   "execution_count": 2,
   "metadata": {},
   "outputs": [],
   "source": [
    "df= pd.read_csv(\"flights.txt\",sep='|')"
   ]
  },
  {
   "cell_type": "code",
   "execution_count": 3,
   "metadata": {},
   "outputs": [
    {
     "data": {
      "text/html": [
       "<div>\n",
       "<style scoped>\n",
       "    .dataframe tbody tr th:only-of-type {\n",
       "        vertical-align: middle;\n",
       "    }\n",
       "\n",
       "    .dataframe tbody tr th {\n",
       "        vertical-align: top;\n",
       "    }\n",
       "\n",
       "    .dataframe thead th {\n",
       "        text-align: right;\n",
       "    }\n",
       "</style>\n",
       "<table border=\"1\" class=\"dataframe\">\n",
       "  <thead>\n",
       "    <tr style=\"text-align: right;\">\n",
       "      <th></th>\n",
       "      <th>TRANSACTIONID</th>\n",
       "      <th>FLIGHTDATE</th>\n",
       "      <th>AIRLINECODE</th>\n",
       "      <th>AIRLINENAME</th>\n",
       "      <th>TAILNUM</th>\n",
       "      <th>FLIGHTNUM</th>\n",
       "      <th>ORIGINAIRPORTCODE</th>\n",
       "      <th>ORIGAIRPORTNAME</th>\n",
       "      <th>ORIGINCITYNAME</th>\n",
       "      <th>ORIGINSTATE</th>\n",
       "      <th>...</th>\n",
       "      <th>WHEELSON</th>\n",
       "      <th>TAXIIN</th>\n",
       "      <th>CRSARRTIME</th>\n",
       "      <th>ARRTIME</th>\n",
       "      <th>ARRDELAY</th>\n",
       "      <th>CRSELAPSEDTIME</th>\n",
       "      <th>ACTUALELAPSEDTIME</th>\n",
       "      <th>CANCELLED</th>\n",
       "      <th>DIVERTED</th>\n",
       "      <th>DISTANCE</th>\n",
       "    </tr>\n",
       "  </thead>\n",
       "  <tbody>\n",
       "    <tr>\n",
       "      <th>0</th>\n",
       "      <td>54548800</td>\n",
       "      <td>20020101</td>\n",
       "      <td>WN</td>\n",
       "      <td>Southwest Airlines Co.: WN</td>\n",
       "      <td>N103@@</td>\n",
       "      <td>1425</td>\n",
       "      <td>ABQ</td>\n",
       "      <td>AlbuquerqueNM: Albuquerque International Sunport</td>\n",
       "      <td>Albuquerque</td>\n",
       "      <td>NM</td>\n",
       "      <td>...</td>\n",
       "      <td>1648.0</td>\n",
       "      <td>4.0</td>\n",
       "      <td>1655</td>\n",
       "      <td>1652.0</td>\n",
       "      <td>-3.0</td>\n",
       "      <td>90.0</td>\n",
       "      <td>87.0</td>\n",
       "      <td>F</td>\n",
       "      <td>False</td>\n",
       "      <td>580 miles</td>\n",
       "    </tr>\n",
       "    <tr>\n",
       "      <th>1</th>\n",
       "      <td>55872300</td>\n",
       "      <td>20020101</td>\n",
       "      <td>CO</td>\n",
       "      <td>Continental Air Lines Inc.: CO</td>\n",
       "      <td>N83872</td>\n",
       "      <td>150</td>\n",
       "      <td>ABQ</td>\n",
       "      <td>AlbuquerqueNM: Albuquerque International Sunport</td>\n",
       "      <td>Albuquerque</td>\n",
       "      <td>NM</td>\n",
       "      <td>...</td>\n",
       "      <td>1419.0</td>\n",
       "      <td>16.0</td>\n",
       "      <td>1426</td>\n",
       "      <td>1435.0</td>\n",
       "      <td>9.0</td>\n",
       "      <td>116.0</td>\n",
       "      <td>119.0</td>\n",
       "      <td>False</td>\n",
       "      <td>F</td>\n",
       "      <td>744 miles</td>\n",
       "    </tr>\n",
       "    <tr>\n",
       "      <th>2</th>\n",
       "      <td>54388800</td>\n",
       "      <td>20020101</td>\n",
       "      <td>WN</td>\n",
       "      <td>Southwest Airlines Co.: WN</td>\n",
       "      <td>N334@@</td>\n",
       "      <td>249</td>\n",
       "      <td>ABQ</td>\n",
       "      <td>AlbuquerqueNM: Albuquerque International Sunport</td>\n",
       "      <td>Albuquerque</td>\n",
       "      <td>NM</td>\n",
       "      <td>...</td>\n",
       "      <td>1618.0</td>\n",
       "      <td>2.0</td>\n",
       "      <td>1500</td>\n",
       "      <td>1620.0</td>\n",
       "      <td>80.0</td>\n",
       "      <td>105.0</td>\n",
       "      <td>102.0</td>\n",
       "      <td>F</td>\n",
       "      <td>False</td>\n",
       "      <td>718 miles</td>\n",
       "    </tr>\n",
       "    <tr>\n",
       "      <th>3</th>\n",
       "      <td>54486500</td>\n",
       "      <td>20020101</td>\n",
       "      <td>WN</td>\n",
       "      <td>Southwest Airlines Co.: WN</td>\n",
       "      <td>N699@@</td>\n",
       "      <td>902</td>\n",
       "      <td>ABQ</td>\n",
       "      <td>AlbuquerqueNM: Albuquerque International Sunport</td>\n",
       "      <td>Albuquerque</td>\n",
       "      <td>NM</td>\n",
       "      <td>...</td>\n",
       "      <td>1947.0</td>\n",
       "      <td>1.0</td>\n",
       "      <td>1950</td>\n",
       "      <td>1948.0</td>\n",
       "      <td>-2.0</td>\n",
       "      <td>85.0</td>\n",
       "      <td>83.0</td>\n",
       "      <td>0</td>\n",
       "      <td>0</td>\n",
       "      <td>487 miles</td>\n",
       "    </tr>\n",
       "    <tr>\n",
       "      <th>4</th>\n",
       "      <td>55878700</td>\n",
       "      <td>20020103</td>\n",
       "      <td>CO</td>\n",
       "      <td>Continental Air Lines Inc.: CO</td>\n",
       "      <td>N58606</td>\n",
       "      <td>234</td>\n",
       "      <td>ABQ</td>\n",
       "      <td>AlbuquerqueNM: Albuquerque International Sunport</td>\n",
       "      <td>Albuquerque</td>\n",
       "      <td>NM</td>\n",
       "      <td>...</td>\n",
       "      <td>1742.0</td>\n",
       "      <td>5.0</td>\n",
       "      <td>1750</td>\n",
       "      <td>1747.0</td>\n",
       "      <td>-3.0</td>\n",
       "      <td>115.0</td>\n",
       "      <td>114.0</td>\n",
       "      <td>F</td>\n",
       "      <td>False</td>\n",
       "      <td>744 miles</td>\n",
       "    </tr>\n",
       "  </tbody>\n",
       "</table>\n",
       "<p>5 rows × 31 columns</p>\n",
       "</div>"
      ],
      "text/plain": [
       "   TRANSACTIONID  FLIGHTDATE AIRLINECODE                     AIRLINENAME  \\\n",
       "0       54548800    20020101          WN      Southwest Airlines Co.: WN   \n",
       "1       55872300    20020101          CO  Continental Air Lines Inc.: CO   \n",
       "2       54388800    20020101          WN      Southwest Airlines Co.: WN   \n",
       "3       54486500    20020101          WN      Southwest Airlines Co.: WN   \n",
       "4       55878700    20020103          CO  Continental Air Lines Inc.: CO   \n",
       "\n",
       "  TAILNUM  FLIGHTNUM ORIGINAIRPORTCODE  \\\n",
       "0  N103@@       1425               ABQ   \n",
       "1  N83872        150               ABQ   \n",
       "2  N334@@        249               ABQ   \n",
       "3  N699@@        902               ABQ   \n",
       "4  N58606        234               ABQ   \n",
       "\n",
       "                                    ORIGAIRPORTNAME ORIGINCITYNAME  \\\n",
       "0  AlbuquerqueNM: Albuquerque International Sunport    Albuquerque   \n",
       "1  AlbuquerqueNM: Albuquerque International Sunport    Albuquerque   \n",
       "2  AlbuquerqueNM: Albuquerque International Sunport    Albuquerque   \n",
       "3  AlbuquerqueNM: Albuquerque International Sunport    Albuquerque   \n",
       "4  AlbuquerqueNM: Albuquerque International Sunport    Albuquerque   \n",
       "\n",
       "  ORIGINSTATE  ... WHEELSON TAXIIN CRSARRTIME ARRTIME ARRDELAY CRSELAPSEDTIME  \\\n",
       "0          NM  ...   1648.0    4.0       1655  1652.0     -3.0           90.0   \n",
       "1          NM  ...   1419.0   16.0       1426  1435.0      9.0          116.0   \n",
       "2          NM  ...   1618.0    2.0       1500  1620.0     80.0          105.0   \n",
       "3          NM  ...   1947.0    1.0       1950  1948.0     -2.0           85.0   \n",
       "4          NM  ...   1742.0    5.0       1750  1747.0     -3.0          115.0   \n",
       "\n",
       "   ACTUALELAPSEDTIME  CANCELLED  DIVERTED   DISTANCE  \n",
       "0               87.0          F     False  580 miles  \n",
       "1              119.0      False         F  744 miles  \n",
       "2              102.0          F     False  718 miles  \n",
       "3               83.0          0         0  487 miles  \n",
       "4              114.0          F     False  744 miles  \n",
       "\n",
       "[5 rows x 31 columns]"
      ]
     },
     "execution_count": 3,
     "metadata": {},
     "output_type": "execute_result"
    }
   ],
   "source": [
    "df.head()"
   ]
  },
  {
   "cell_type": "code",
   "execution_count": 4,
   "metadata": {},
   "outputs": [
    {
     "data": {
      "text/plain": [
       "(1191805, 31)"
      ]
     },
     "execution_count": 4,
     "metadata": {},
     "output_type": "execute_result"
    }
   ],
   "source": [
    "df.shape"
   ]
  },
  {
   "cell_type": "code",
   "execution_count": 5,
   "metadata": {},
   "outputs": [
    {
     "data": {
      "text/plain": [
       "Index(['TRANSACTIONID', 'FLIGHTDATE', 'AIRLINECODE', 'AIRLINENAME', 'TAILNUM',\n",
       "       'FLIGHTNUM', 'ORIGINAIRPORTCODE', 'ORIGAIRPORTNAME', 'ORIGINCITYNAME',\n",
       "       'ORIGINSTATE', 'ORIGINSTATENAME', 'DESTAIRPORTCODE', 'DESTAIRPORTNAME',\n",
       "       'DESTCITYNAME', 'DESTSTATE', 'DESTSTATENAME', 'CRSDEPTIME', 'DEPTIME',\n",
       "       'DEPDELAY', 'TAXIOUT', 'WHEELSOFF', 'WHEELSON', 'TAXIIN', 'CRSARRTIME',\n",
       "       'ARRTIME', 'ARRDELAY', 'CRSELAPSEDTIME', 'ACTUALELAPSEDTIME',\n",
       "       'CANCELLED', 'DIVERTED', 'DISTANCE'],\n",
       "      dtype='object')"
      ]
     },
     "execution_count": 5,
     "metadata": {},
     "output_type": "execute_result"
    }
   ],
   "source": [
    "df.columns"
   ]
  },
  {
   "cell_type": "code",
   "execution_count": 6,
   "metadata": {},
   "outputs": [
    {
     "name": "stdout",
     "output_type": "stream",
     "text": [
      "<class 'pandas.core.frame.DataFrame'>\n",
      "RangeIndex: 1191805 entries, 0 to 1191804\n",
      "Data columns (total 31 columns):\n",
      " #   Column             Non-Null Count    Dtype  \n",
      "---  ------             --------------    -----  \n",
      " 0   TRANSACTIONID      1191805 non-null  int64  \n",
      " 1   FLIGHTDATE         1191805 non-null  int64  \n",
      " 2   AIRLINECODE        1191805 non-null  object \n",
      " 3   AIRLINENAME        1191805 non-null  object \n",
      " 4   TAILNUM            1034988 non-null  object \n",
      " 5   FLIGHTNUM          1191805 non-null  int64  \n",
      " 6   ORIGINAIRPORTCODE  1191805 non-null  object \n",
      " 7   ORIGAIRPORTNAME    1191805 non-null  object \n",
      " 8   ORIGINCITYNAME     1191805 non-null  object \n",
      " 9   ORIGINSTATE        1180963 non-null  object \n",
      " 10  ORIGINSTATENAME    1180963 non-null  object \n",
      " 11  DESTAIRPORTCODE    1191805 non-null  object \n",
      " 12  DESTAIRPORTNAME    1191805 non-null  object \n",
      " 13  DESTCITYNAME       1191805 non-null  object \n",
      " 14  DESTSTATE          1180967 non-null  object \n",
      " 15  DESTSTATENAME      1180967 non-null  object \n",
      " 16  CRSDEPTIME         1191805 non-null  int64  \n",
      " 17  DEPTIME            1163470 non-null  float64\n",
      " 18  DEPDELAY           1163470 non-null  float64\n",
      " 19  TAXIOUT            1011833 non-null  float64\n",
      " 20  WHEELSOFF          1011791 non-null  float64\n",
      " 21  WHEELSON           1010225 non-null  float64\n",
      " 22  TAXIIN             1010320 non-null  float64\n",
      " 23  CRSARRTIME         1191805 non-null  int64  \n",
      " 24  ARRTIME            1161439 non-null  float64\n",
      " 25  ARRDELAY           1160545 non-null  float64\n",
      " 26  CRSELAPSEDTIME     1191383 non-null  float64\n",
      " 27  ACTUALELAPSEDTIME  1160545 non-null  float64\n",
      " 28  CANCELLED          1191805 non-null  object \n",
      " 29  DIVERTED           1191805 non-null  object \n",
      " 30  DISTANCE           1191805 non-null  object \n",
      "dtypes: float64(10), int64(5), object(16)\n",
      "memory usage: 281.9+ MB\n"
     ]
    }
   ],
   "source": [
    "df.info()"
   ]
  },
  {
   "cell_type": "code",
   "execution_count": 7,
   "metadata": {},
   "outputs": [
    {
     "data": {
      "text/html": [
       "<div>\n",
       "<style scoped>\n",
       "    .dataframe tbody tr th:only-of-type {\n",
       "        vertical-align: middle;\n",
       "    }\n",
       "\n",
       "    .dataframe tbody tr th {\n",
       "        vertical-align: top;\n",
       "    }\n",
       "\n",
       "    .dataframe thead th {\n",
       "        text-align: right;\n",
       "    }\n",
       "</style>\n",
       "<table border=\"1\" class=\"dataframe\">\n",
       "  <thead>\n",
       "    <tr style=\"text-align: right;\">\n",
       "      <th></th>\n",
       "      <th>TRANSACTIONID</th>\n",
       "      <th>FLIGHTDATE</th>\n",
       "      <th>FLIGHTNUM</th>\n",
       "      <th>CRSDEPTIME</th>\n",
       "      <th>DEPTIME</th>\n",
       "      <th>DEPDELAY</th>\n",
       "      <th>TAXIOUT</th>\n",
       "      <th>WHEELSOFF</th>\n",
       "      <th>WHEELSON</th>\n",
       "      <th>TAXIIN</th>\n",
       "      <th>CRSARRTIME</th>\n",
       "      <th>ARRTIME</th>\n",
       "      <th>ARRDELAY</th>\n",
       "      <th>CRSELAPSEDTIME</th>\n",
       "      <th>ACTUALELAPSEDTIME</th>\n",
       "    </tr>\n",
       "  </thead>\n",
       "  <tbody>\n",
       "    <tr>\n",
       "      <th>count</th>\n",
       "      <td>1.191805e+06</td>\n",
       "      <td>1.191805e+06</td>\n",
       "      <td>1.191805e+06</td>\n",
       "      <td>1.191805e+06</td>\n",
       "      <td>1.163470e+06</td>\n",
       "      <td>1.163470e+06</td>\n",
       "      <td>1.011833e+06</td>\n",
       "      <td>1.011791e+06</td>\n",
       "      <td>1.010225e+06</td>\n",
       "      <td>1.010320e+06</td>\n",
       "      <td>1.191805e+06</td>\n",
       "      <td>1.161439e+06</td>\n",
       "      <td>1.160545e+06</td>\n",
       "      <td>1.191383e+06</td>\n",
       "      <td>1.160545e+06</td>\n",
       "    </tr>\n",
       "    <tr>\n",
       "      <th>mean</th>\n",
       "      <td>7.068653e+07</td>\n",
       "      <td>2.003762e+07</td>\n",
       "      <td>1.641101e+03</td>\n",
       "      <td>1.326645e+03</td>\n",
       "      <td>1.341899e+03</td>\n",
       "      <td>7.286340e+00</td>\n",
       "      <td>1.533650e+01</td>\n",
       "      <td>1.363798e+03</td>\n",
       "      <td>1.486798e+03</td>\n",
       "      <td>6.462265e+00</td>\n",
       "      <td>1.490942e+03</td>\n",
       "      <td>1.493244e+03</td>\n",
       "      <td>4.836588e+00</td>\n",
       "      <td>1.266770e+02</td>\n",
       "      <td>1.244874e+02</td>\n",
       "    </tr>\n",
       "    <tr>\n",
       "      <th>std</th>\n",
       "      <td>4.677987e+07</td>\n",
       "      <td>7.540976e+04</td>\n",
       "      <td>1.588958e+03</td>\n",
       "      <td>4.776749e+02</td>\n",
       "      <td>4.755364e+02</td>\n",
       "      <td>2.974672e+01</td>\n",
       "      <td>1.038972e+01</td>\n",
       "      <td>4.781433e+02</td>\n",
       "      <td>4.962900e+02</td>\n",
       "      <td>8.397914e+00</td>\n",
       "      <td>4.958673e+02</td>\n",
       "      <td>4.970004e+02</td>\n",
       "      <td>3.182620e+01</td>\n",
       "      <td>6.991184e+01</td>\n",
       "      <td>6.982775e+01</td>\n",
       "    </tr>\n",
       "    <tr>\n",
       "      <th>min</th>\n",
       "      <td>1.000000e+02</td>\n",
       "      <td>1.992010e+07</td>\n",
       "      <td>1.000000e+00</td>\n",
       "      <td>0.000000e+00</td>\n",
       "      <td>1.000000e+00</td>\n",
       "      <td>-1.200000e+02</td>\n",
       "      <td>0.000000e+00</td>\n",
       "      <td>1.000000e+00</td>\n",
       "      <td>1.000000e+00</td>\n",
       "      <td>0.000000e+00</td>\n",
       "      <td>0.000000e+00</td>\n",
       "      <td>1.000000e+00</td>\n",
       "      <td>-9.500000e+01</td>\n",
       "      <td>1.400000e+01</td>\n",
       "      <td>6.000000e+00</td>\n",
       "    </tr>\n",
       "    <tr>\n",
       "      <th>25%</th>\n",
       "      <td>2.979520e+07</td>\n",
       "      <td>1.997090e+07</td>\n",
       "      <td>5.210000e+02</td>\n",
       "      <td>9.250000e+02</td>\n",
       "      <td>9.320000e+02</td>\n",
       "      <td>-3.000000e+00</td>\n",
       "      <td>1.000000e+01</td>\n",
       "      <td>9.470000e+02</td>\n",
       "      <td>1.112000e+03</td>\n",
       "      <td>4.000000e+00</td>\n",
       "      <td>1.115000e+03</td>\n",
       "      <td>1.116000e+03</td>\n",
       "      <td>-1.000000e+01</td>\n",
       "      <td>7.500000e+01</td>\n",
       "      <td>7.300000e+01</td>\n",
       "    </tr>\n",
       "    <tr>\n",
       "      <th>50%</th>\n",
       "      <td>5.959030e+07</td>\n",
       "      <td>2.003010e+07</td>\n",
       "      <td>1.159000e+03</td>\n",
       "      <td>1.325000e+03</td>\n",
       "      <td>1.331000e+03</td>\n",
       "      <td>0.000000e+00</td>\n",
       "      <td>1.300000e+01</td>\n",
       "      <td>1.345000e+03</td>\n",
       "      <td>1.517000e+03</td>\n",
       "      <td>5.000000e+00</td>\n",
       "      <td>1.520000e+03</td>\n",
       "      <td>1.522000e+03</td>\n",
       "      <td>-2.000000e+00</td>\n",
       "      <td>1.080000e+02</td>\n",
       "      <td>1.060000e+02</td>\n",
       "    </tr>\n",
       "    <tr>\n",
       "      <th>75%</th>\n",
       "      <td>1.180231e+08</td>\n",
       "      <td>2.011052e+07</td>\n",
       "      <td>2.039000e+03</td>\n",
       "      <td>1.725000e+03</td>\n",
       "      <td>1.732000e+03</td>\n",
       "      <td>5.000000e+00</td>\n",
       "      <td>1.800000e+01</td>\n",
       "      <td>1.748000e+03</td>\n",
       "      <td>1.910000e+03</td>\n",
       "      <td>8.000000e+00</td>\n",
       "      <td>1.911000e+03</td>\n",
       "      <td>1.915000e+03</td>\n",
       "      <td>9.000000e+00</td>\n",
       "      <td>1.580000e+02</td>\n",
       "      <td>1.560000e+02</td>\n",
       "    </tr>\n",
       "    <tr>\n",
       "      <th>max</th>\n",
       "      <td>1.478182e+08</td>\n",
       "      <td>2.016053e+07</td>\n",
       "      <td>9.899000e+03</td>\n",
       "      <td>2.400000e+03</td>\n",
       "      <td>2.400000e+03</td>\n",
       "      <td>1.477000e+03</td>\n",
       "      <td>1.439000e+03</td>\n",
       "      <td>2.400000e+03</td>\n",
       "      <td>2.400000e+03</td>\n",
       "      <td>1.439000e+03</td>\n",
       "      <td>2.400000e+03</td>\n",
       "      <td>2.400000e+03</td>\n",
       "      <td>1.473000e+03</td>\n",
       "      <td>7.050000e+02</td>\n",
       "      <td>7.000000e+02</td>\n",
       "    </tr>\n",
       "  </tbody>\n",
       "</table>\n",
       "</div>"
      ],
      "text/plain": [
       "       TRANSACTIONID    FLIGHTDATE     FLIGHTNUM    CRSDEPTIME       DEPTIME  \\\n",
       "count   1.191805e+06  1.191805e+06  1.191805e+06  1.191805e+06  1.163470e+06   \n",
       "mean    7.068653e+07  2.003762e+07  1.641101e+03  1.326645e+03  1.341899e+03   \n",
       "std     4.677987e+07  7.540976e+04  1.588958e+03  4.776749e+02  4.755364e+02   \n",
       "min     1.000000e+02  1.992010e+07  1.000000e+00  0.000000e+00  1.000000e+00   \n",
       "25%     2.979520e+07  1.997090e+07  5.210000e+02  9.250000e+02  9.320000e+02   \n",
       "50%     5.959030e+07  2.003010e+07  1.159000e+03  1.325000e+03  1.331000e+03   \n",
       "75%     1.180231e+08  2.011052e+07  2.039000e+03  1.725000e+03  1.732000e+03   \n",
       "max     1.478182e+08  2.016053e+07  9.899000e+03  2.400000e+03  2.400000e+03   \n",
       "\n",
       "           DEPDELAY       TAXIOUT     WHEELSOFF      WHEELSON        TAXIIN  \\\n",
       "count  1.163470e+06  1.011833e+06  1.011791e+06  1.010225e+06  1.010320e+06   \n",
       "mean   7.286340e+00  1.533650e+01  1.363798e+03  1.486798e+03  6.462265e+00   \n",
       "std    2.974672e+01  1.038972e+01  4.781433e+02  4.962900e+02  8.397914e+00   \n",
       "min   -1.200000e+02  0.000000e+00  1.000000e+00  1.000000e+00  0.000000e+00   \n",
       "25%   -3.000000e+00  1.000000e+01  9.470000e+02  1.112000e+03  4.000000e+00   \n",
       "50%    0.000000e+00  1.300000e+01  1.345000e+03  1.517000e+03  5.000000e+00   \n",
       "75%    5.000000e+00  1.800000e+01  1.748000e+03  1.910000e+03  8.000000e+00   \n",
       "max    1.477000e+03  1.439000e+03  2.400000e+03  2.400000e+03  1.439000e+03   \n",
       "\n",
       "         CRSARRTIME       ARRTIME      ARRDELAY  CRSELAPSEDTIME  \\\n",
       "count  1.191805e+06  1.161439e+06  1.160545e+06    1.191383e+06   \n",
       "mean   1.490942e+03  1.493244e+03  4.836588e+00    1.266770e+02   \n",
       "std    4.958673e+02  4.970004e+02  3.182620e+01    6.991184e+01   \n",
       "min    0.000000e+00  1.000000e+00 -9.500000e+01    1.400000e+01   \n",
       "25%    1.115000e+03  1.116000e+03 -1.000000e+01    7.500000e+01   \n",
       "50%    1.520000e+03  1.522000e+03 -2.000000e+00    1.080000e+02   \n",
       "75%    1.911000e+03  1.915000e+03  9.000000e+00    1.580000e+02   \n",
       "max    2.400000e+03  2.400000e+03  1.473000e+03    7.050000e+02   \n",
       "\n",
       "       ACTUALELAPSEDTIME  \n",
       "count       1.160545e+06  \n",
       "mean        1.244874e+02  \n",
       "std         6.982775e+01  \n",
       "min         6.000000e+00  \n",
       "25%         7.300000e+01  \n",
       "50%         1.060000e+02  \n",
       "75%         1.560000e+02  \n",
       "max         7.000000e+02  "
      ]
     },
     "execution_count": 7,
     "metadata": {},
     "output_type": "execute_result"
    }
   ],
   "source": [
    "df.describe()"
   ]
  },
  {
   "cell_type": "code",
   "execution_count": 8,
   "metadata": {},
   "outputs": [],
   "source": [
    "# Transaction id"
   ]
  },
  {
   "cell_type": "code",
   "execution_count": 9,
   "metadata": {},
   "outputs": [
    {
     "data": {
      "text/plain": [
       "1191805"
      ]
     },
     "execution_count": 9,
     "metadata": {},
     "output_type": "execute_result"
    }
   ],
   "source": [
    "df.TRANSACTIONID.nunique()"
   ]
  },
  {
   "cell_type": "code",
   "execution_count": 10,
   "metadata": {},
   "outputs": [],
   "source": [
    "for a in df.TRANSACTIONID:\n",
    "    if(a%1!=0):\n",
    "        print (a)"
   ]
  },
  {
   "cell_type": "code",
   "execution_count": 11,
   "metadata": {},
   "outputs": [],
   "source": [
    "# FLIGHT DATE"
   ]
  },
  {
   "cell_type": "code",
   "execution_count": 12,
   "metadata": {},
   "outputs": [
    {
     "data": {
      "text/plain": [
       "count    1.191805e+06\n",
       "mean     2.003762e+07\n",
       "std      7.540976e+04\n",
       "min      1.992010e+07\n",
       "25%      1.997090e+07\n",
       "50%      2.003010e+07\n",
       "75%      2.011052e+07\n",
       "max      2.016053e+07\n",
       "Name: FLIGHTDATE, dtype: float64"
      ]
     },
     "execution_count": 12,
     "metadata": {},
     "output_type": "execute_result"
    }
   ],
   "source": [
    "df.FLIGHTDATE.describe()"
   ]
  },
  {
   "cell_type": "code",
   "execution_count": 13,
   "metadata": {},
   "outputs": [],
   "source": [
    "df.FLIGHTDATE=df.FLIGHTDATE.astype(str)"
   ]
  },
  {
   "cell_type": "code",
   "execution_count": 14,
   "metadata": {},
   "outputs": [
    {
     "data": {
      "text/plain": [
       "0          20020101\n",
       "1          20020101\n",
       "2          20020101\n",
       "3          20020101\n",
       "4          20020103\n",
       "             ...   \n",
       "1191800    20130106\n",
       "1191801    20130106\n",
       "1191802    20130106\n",
       "1191803    20130106\n",
       "1191804    20130106\n",
       "Name: FLIGHTDATE, Length: 1191805, dtype: object"
      ]
     },
     "execution_count": 14,
     "metadata": {},
     "output_type": "execute_result"
    }
   ],
   "source": [
    "df.FLIGHTDATE"
   ]
  },
  {
   "cell_type": "code",
   "execution_count": 15,
   "metadata": {},
   "outputs": [],
   "source": [
    "b=[]\n",
    "for a in df.FLIGHTDATE:\n",
    "    c=a[:4]+ \"/\"+a[4:6]+ \"/\"+a[6:8]\n",
    "    b.append(c)"
   ]
  },
  {
   "cell_type": "code",
   "execution_count": 16,
   "metadata": {},
   "outputs": [],
   "source": [
    "df.FLIGHTDATE=b"
   ]
  },
  {
   "cell_type": "code",
   "execution_count": 17,
   "metadata": {},
   "outputs": [
    {
     "data": {
      "text/plain": [
       "0          2002/01/01\n",
       "1          2002/01/01\n",
       "2          2002/01/01\n",
       "3          2002/01/01\n",
       "4          2002/01/03\n",
       "              ...    \n",
       "1191800    2013/01/06\n",
       "1191801    2013/01/06\n",
       "1191802    2013/01/06\n",
       "1191803    2013/01/06\n",
       "1191804    2013/01/06\n",
       "Name: FLIGHTDATE, Length: 1191805, dtype: object"
      ]
     },
     "execution_count": 17,
     "metadata": {},
     "output_type": "execute_result"
    }
   ],
   "source": [
    "df.FLIGHTDATE"
   ]
  },
  {
   "cell_type": "code",
   "execution_count": 18,
   "metadata": {},
   "outputs": [],
   "source": [
    "df.FLIGHTDATE=pd.to_datetime(df.FLIGHTDATE,format='%Y/%m/%d')"
   ]
  },
  {
   "cell_type": "code",
   "execution_count": 19,
   "metadata": {},
   "outputs": [],
   "source": [
    "# Airline code"
   ]
  },
  {
   "cell_type": "code",
   "execution_count": 20,
   "metadata": {},
   "outputs": [
    {
     "data": {
      "text/plain": [
       "0          WN\n",
       "1          CO\n",
       "2          WN\n",
       "3          WN\n",
       "4          CO\n",
       "           ..\n",
       "1191800    EV\n",
       "1191801    DL\n",
       "1191802    DL\n",
       "1191803    EV\n",
       "1191804    EV\n",
       "Name: AIRLINECODE, Length: 1191805, dtype: object"
      ]
     },
     "execution_count": 20,
     "metadata": {},
     "output_type": "execute_result"
    }
   ],
   "source": [
    "df.AIRLINECODE"
   ]
  },
  {
   "cell_type": "code",
   "execution_count": 21,
   "metadata": {},
   "outputs": [
    {
     "data": {
      "text/plain": [
       "26"
      ]
     },
     "execution_count": 21,
     "metadata": {},
     "output_type": "execute_result"
    }
   ],
   "source": [
    "df.AIRLINECODE.nunique()"
   ]
  },
  {
   "cell_type": "code",
   "execution_count": 22,
   "metadata": {},
   "outputs": [],
   "source": [
    "import re\n",
    "rex = re.compile(\"^[A-Z0-9]{2}$\")\n",
    "for a in df[\"AIRLINECODE\"]:\n",
    "    if rex.match(a) is None:\n",
    "        print(a)"
   ]
  },
  {
   "cell_type": "code",
   "execution_count": 23,
   "metadata": {},
   "outputs": [
    {
     "data": {
      "text/plain": [
       "WN    189985\n",
       "DL    166601\n",
       "AA    139782\n",
       "UA    121804\n",
       "US    118261\n",
       "NW     69196\n",
       "CO     57828\n",
       "OO     53575\n",
       "MQ     48122\n",
       "EV     45224\n",
       "AS     29836\n",
       "TW     26377\n",
       "HP     25915\n",
       "B6     18806\n",
       "XE     17219\n",
       "FL     15006\n",
       "YV      8489\n",
       "9E      8085\n",
       "OH      6668\n",
       "F9      6436\n",
       "HA      5977\n",
       "DH      5750\n",
       "VX      2728\n",
       "NK      2070\n",
       "TZ      1420\n",
       "KH       645\n",
       "Name: AIRLINECODE, dtype: int64"
      ]
     },
     "execution_count": 23,
     "metadata": {},
     "output_type": "execute_result"
    }
   ],
   "source": [
    "df.AIRLINECODE.value_counts()"
   ]
  },
  {
   "cell_type": "code",
   "execution_count": 24,
   "metadata": {},
   "outputs": [],
   "source": [
    "# AIRLINE NAME"
   ]
  },
  {
   "cell_type": "code",
   "execution_count": 25,
   "metadata": {},
   "outputs": [
    {
     "data": {
      "text/plain": [
       "0              Southwest Airlines Co.: WN\n",
       "1          Continental Air Lines Inc.: CO\n",
       "2              Southwest Airlines Co.: WN\n",
       "3              Southwest Airlines Co.: WN\n",
       "4          Continental Air Lines Inc.: CO\n",
       "                        ...              \n",
       "1191800      ExpressJet Airlines Inc.: EV\n",
       "1191801          Delta Air Lines Inc.: DL\n",
       "1191802          Delta Air Lines Inc.: DL\n",
       "1191803      ExpressJet Airlines Inc.: EV\n",
       "1191804      ExpressJet Airlines Inc.: EV\n",
       "Name: AIRLINENAME, Length: 1191805, dtype: object"
      ]
     },
     "execution_count": 25,
     "metadata": {},
     "output_type": "execute_result"
    }
   ],
   "source": [
    "df.AIRLINENAME"
   ]
  },
  {
   "cell_type": "code",
   "execution_count": 26,
   "metadata": {},
   "outputs": [],
   "source": [
    "b=[]\n",
    "for a in df.AIRLINENAME:\n",
    "    c=a.split(\": \",1)[1]\n",
    "    c=c.split(\" (\",1)[0]\n",
    "    b.append(c)"
   ]
  },
  {
   "cell_type": "code",
   "execution_count": 27,
   "metadata": {},
   "outputs": [],
   "source": [
    "df[\"test\"]=b"
   ]
  },
  {
   "cell_type": "code",
   "execution_count": 28,
   "metadata": {},
   "outputs": [
    {
     "data": {
      "text/plain": [
       "WN    189985\n",
       "DL    166601\n",
       "AA    139782\n",
       "UA    121804\n",
       "US    118261\n",
       "NW     69196\n",
       "CO     57828\n",
       "OO     53575\n",
       "MQ     48122\n",
       "EV     45224\n",
       "AS     29836\n",
       "TW     26377\n",
       "HP     25915\n",
       "B6     18806\n",
       "XE     17219\n",
       "FL     15006\n",
       "YV      8489\n",
       "9E      8085\n",
       "OH      6668\n",
       "F9      6436\n",
       "HA      5977\n",
       "DH      5750\n",
       "VX      2728\n",
       "NK      2070\n",
       "TZ      1420\n",
       "AQ       645\n",
       "Name: test, dtype: int64"
      ]
     },
     "execution_count": 28,
     "metadata": {},
     "output_type": "execute_result"
    }
   ],
   "source": [
    "df[\"test\"].value_counts()"
   ]
  },
  {
   "cell_type": "code",
   "execution_count": 29,
   "metadata": {},
   "outputs": [
    {
     "data": {
      "text/plain": [
       "WN    189985\n",
       "DL    166601\n",
       "AA    139782\n",
       "UA    121804\n",
       "US    118261\n",
       "NW     69196\n",
       "CO     57828\n",
       "OO     53575\n",
       "MQ     48122\n",
       "EV     45224\n",
       "AS     29836\n",
       "TW     26377\n",
       "HP     25915\n",
       "B6     18806\n",
       "XE     17219\n",
       "FL     15006\n",
       "YV      8489\n",
       "9E      8085\n",
       "OH      6668\n",
       "F9      6436\n",
       "HA      5977\n",
       "DH      5750\n",
       "VX      2728\n",
       "NK      2070\n",
       "TZ      1420\n",
       "KH       645\n",
       "Name: AIRLINECODE, dtype: int64"
      ]
     },
     "execution_count": 29,
     "metadata": {},
     "output_type": "execute_result"
    }
   ],
   "source": [
    "df.AIRLINECODE.value_counts()"
   ]
  },
  {
   "cell_type": "code",
   "execution_count": 30,
   "metadata": {},
   "outputs": [
    {
     "data": {
      "text/plain": [
       "False"
      ]
     },
     "execution_count": 30,
     "metadata": {},
     "output_type": "execute_result"
    }
   ],
   "source": [
    "df[\"test\"].equals(df[\"AIRLINECODE\"])"
   ]
  },
  {
   "cell_type": "code",
   "execution_count": 31,
   "metadata": {},
   "outputs": [
    {
     "data": {
      "text/html": [
       "<div>\n",
       "<style scoped>\n",
       "    .dataframe tbody tr th:only-of-type {\n",
       "        vertical-align: middle;\n",
       "    }\n",
       "\n",
       "    .dataframe tbody tr th {\n",
       "        vertical-align: top;\n",
       "    }\n",
       "\n",
       "    .dataframe thead th {\n",
       "        text-align: right;\n",
       "    }\n",
       "</style>\n",
       "<table border=\"1\" class=\"dataframe\">\n",
       "  <thead>\n",
       "    <tr style=\"text-align: right;\">\n",
       "      <th></th>\n",
       "      <th>TRANSACTIONID</th>\n",
       "      <th>FLIGHTDATE</th>\n",
       "      <th>AIRLINECODE</th>\n",
       "      <th>AIRLINENAME</th>\n",
       "      <th>TAILNUM</th>\n",
       "      <th>FLIGHTNUM</th>\n",
       "      <th>ORIGINAIRPORTCODE</th>\n",
       "      <th>ORIGAIRPORTNAME</th>\n",
       "      <th>ORIGINCITYNAME</th>\n",
       "      <th>ORIGINSTATE</th>\n",
       "      <th>...</th>\n",
       "      <th>TAXIIN</th>\n",
       "      <th>CRSARRTIME</th>\n",
       "      <th>ARRTIME</th>\n",
       "      <th>ARRDELAY</th>\n",
       "      <th>CRSELAPSEDTIME</th>\n",
       "      <th>ACTUALELAPSEDTIME</th>\n",
       "      <th>CANCELLED</th>\n",
       "      <th>DIVERTED</th>\n",
       "      <th>DISTANCE</th>\n",
       "      <th>test</th>\n",
       "    </tr>\n",
       "  </thead>\n",
       "  <tbody>\n",
       "    <tr>\n",
       "      <th>87139</th>\n",
       "      <td>48290100</td>\n",
       "      <td>2001-01-01</td>\n",
       "      <td>KH</td>\n",
       "      <td>Aloha Airlines Inc.: AQ</td>\n",
       "      <td>-N824A</td>\n",
       "      <td>83</td>\n",
       "      <td>KOA</td>\n",
       "      <td>KonaHI: Kona International Airport at Keahole</td>\n",
       "      <td>Kona</td>\n",
       "      <td>HI</td>\n",
       "      <td>...</td>\n",
       "      <td>2.0</td>\n",
       "      <td>1258</td>\n",
       "      <td>1300.0</td>\n",
       "      <td>2.0</td>\n",
       "      <td>38.0</td>\n",
       "      <td>37.0</td>\n",
       "      <td>False</td>\n",
       "      <td>F</td>\n",
       "      <td>163 miles</td>\n",
       "      <td>AQ</td>\n",
       "    </tr>\n",
       "    <tr>\n",
       "      <th>87140</th>\n",
       "      <td>48303500</td>\n",
       "      <td>2001-01-01</td>\n",
       "      <td>KH</td>\n",
       "      <td>Aloha Airlines Inc.: AQ</td>\n",
       "      <td>-N824A</td>\n",
       "      <td>289</td>\n",
       "      <td>KOA</td>\n",
       "      <td>KonaHI: Kona International Airport at Keahole</td>\n",
       "      <td>Kona</td>\n",
       "      <td>HI</td>\n",
       "      <td>...</td>\n",
       "      <td>3.0</td>\n",
       "      <td>2013</td>\n",
       "      <td>2024.0</td>\n",
       "      <td>11.0</td>\n",
       "      <td>38.0</td>\n",
       "      <td>41.0</td>\n",
       "      <td>F</td>\n",
       "      <td>False</td>\n",
       "      <td>163 miles</td>\n",
       "      <td>AQ</td>\n",
       "    </tr>\n",
       "    <tr>\n",
       "      <th>87141</th>\n",
       "      <td>48298500</td>\n",
       "      <td>2001-01-03</td>\n",
       "      <td>KH</td>\n",
       "      <td>Aloha Airlines Inc.: AQ</td>\n",
       "      <td>-N821A</td>\n",
       "      <td>231</td>\n",
       "      <td>KOA</td>\n",
       "      <td>KonaHI: Kona International Airport at Keahole</td>\n",
       "      <td>Kona</td>\n",
       "      <td>HI</td>\n",
       "      <td>...</td>\n",
       "      <td>2.0</td>\n",
       "      <td>1053</td>\n",
       "      <td>1051.0</td>\n",
       "      <td>-2.0</td>\n",
       "      <td>38.0</td>\n",
       "      <td>42.0</td>\n",
       "      <td>0</td>\n",
       "      <td>0</td>\n",
       "      <td>163 miles</td>\n",
       "      <td>AQ</td>\n",
       "    </tr>\n",
       "    <tr>\n",
       "      <th>87142</th>\n",
       "      <td>48292300</td>\n",
       "      <td>2001-01-04</td>\n",
       "      <td>KH</td>\n",
       "      <td>Aloha Airlines Inc.: AQ</td>\n",
       "      <td>-N810A</td>\n",
       "      <td>103</td>\n",
       "      <td>KOA</td>\n",
       "      <td>KonaHI: Kona International Airport at Keahole</td>\n",
       "      <td>Kona</td>\n",
       "      <td>HI</td>\n",
       "      <td>...</td>\n",
       "      <td>5.0</td>\n",
       "      <td>1008</td>\n",
       "      <td>1007.0</td>\n",
       "      <td>-1.0</td>\n",
       "      <td>38.0</td>\n",
       "      <td>41.0</td>\n",
       "      <td>False</td>\n",
       "      <td>False</td>\n",
       "      <td>163 miles</td>\n",
       "      <td>AQ</td>\n",
       "    </tr>\n",
       "    <tr>\n",
       "      <th>87143</th>\n",
       "      <td>48297300</td>\n",
       "      <td>2001-01-05</td>\n",
       "      <td>KH</td>\n",
       "      <td>Aloha Airlines Inc.: AQ</td>\n",
       "      <td>-N823A</td>\n",
       "      <td>219</td>\n",
       "      <td>KOA</td>\n",
       "      <td>KonaHI: Kona International Airport at Keahole</td>\n",
       "      <td>Kona</td>\n",
       "      <td>HI</td>\n",
       "      <td>...</td>\n",
       "      <td>2.0</td>\n",
       "      <td>1359</td>\n",
       "      <td>1356.0</td>\n",
       "      <td>-3.0</td>\n",
       "      <td>39.0</td>\n",
       "      <td>36.0</td>\n",
       "      <td>False</td>\n",
       "      <td>False</td>\n",
       "      <td>163 miles</td>\n",
       "      <td>AQ</td>\n",
       "    </tr>\n",
       "    <tr>\n",
       "      <th>...</th>\n",
       "      <td>...</td>\n",
       "      <td>...</td>\n",
       "      <td>...</td>\n",
       "      <td>...</td>\n",
       "      <td>...</td>\n",
       "      <td>...</td>\n",
       "      <td>...</td>\n",
       "      <td>...</td>\n",
       "      <td>...</td>\n",
       "      <td>...</td>\n",
       "      <td>...</td>\n",
       "      <td>...</td>\n",
       "      <td>...</td>\n",
       "      <td>...</td>\n",
       "      <td>...</td>\n",
       "      <td>...</td>\n",
       "      <td>...</td>\n",
       "      <td>...</td>\n",
       "      <td>...</td>\n",
       "      <td>...</td>\n",
       "      <td>...</td>\n",
       "    </tr>\n",
       "    <tr>\n",
       "      <th>960009</th>\n",
       "      <td>50423700</td>\n",
       "      <td>2001-05-06</td>\n",
       "      <td>KH</td>\n",
       "      <td>Aloha Airlines Inc.: AQ</td>\n",
       "      <td>-N741A</td>\n",
       "      <td>482</td>\n",
       "      <td>SNA</td>\n",
       "      <td>Santa AnaCA: John Wayne Airport-Orange County</td>\n",
       "      <td>Santa Ana</td>\n",
       "      <td>CA</td>\n",
       "      <td>...</td>\n",
       "      <td>5.0</td>\n",
       "      <td>2125</td>\n",
       "      <td>2158.0</td>\n",
       "      <td>33.0</td>\n",
       "      <td>55.0</td>\n",
       "      <td>69.0</td>\n",
       "      <td>False</td>\n",
       "      <td>F</td>\n",
       "      <td>226 miles</td>\n",
       "      <td>AQ</td>\n",
       "    </tr>\n",
       "    <tr>\n",
       "      <th>960045</th>\n",
       "      <td>52508200</td>\n",
       "      <td>2001-09-02</td>\n",
       "      <td>KH</td>\n",
       "      <td>Aloha Airlines Inc.: AQ</td>\n",
       "      <td>-N742A</td>\n",
       "      <td>483</td>\n",
       "      <td>SNA</td>\n",
       "      <td>Santa AnaCA: John Wayne Airport-Orange County</td>\n",
       "      <td>Santa Ana</td>\n",
       "      <td>CA</td>\n",
       "      <td>...</td>\n",
       "      <td>4.0</td>\n",
       "      <td>1116</td>\n",
       "      <td>1101.0</td>\n",
       "      <td>-15.0</td>\n",
       "      <td>341.0</td>\n",
       "      <td>321.0</td>\n",
       "      <td>0</td>\n",
       "      <td>0</td>\n",
       "      <td>2513 miles</td>\n",
       "      <td>AQ</td>\n",
       "    </tr>\n",
       "    <tr>\n",
       "      <th>960059</th>\n",
       "      <td>52508100</td>\n",
       "      <td>2001-09-07</td>\n",
       "      <td>KH</td>\n",
       "      <td>Aloha Airlines Inc.: AQ</td>\n",
       "      <td>-N739A</td>\n",
       "      <td>482</td>\n",
       "      <td>SNA</td>\n",
       "      <td>Santa AnaCA: John Wayne Airport-Orange County</td>\n",
       "      <td>Santa Ana</td>\n",
       "      <td>CA</td>\n",
       "      <td>...</td>\n",
       "      <td>5.0</td>\n",
       "      <td>2125</td>\n",
       "      <td>2134.0</td>\n",
       "      <td>9.0</td>\n",
       "      <td>55.0</td>\n",
       "      <td>60.0</td>\n",
       "      <td>False</td>\n",
       "      <td>F</td>\n",
       "      <td>226 miles</td>\n",
       "      <td>AQ</td>\n",
       "    </tr>\n",
       "    <tr>\n",
       "      <th>960095</th>\n",
       "      <td>52508300</td>\n",
       "      <td>2001-09-27</td>\n",
       "      <td>KH</td>\n",
       "      <td>Aloha Airlines Inc.: AQ</td>\n",
       "      <td>-N740A</td>\n",
       "      <td>483</td>\n",
       "      <td>SNA</td>\n",
       "      <td>Santa AnaCA: John Wayne Airport-Orange County</td>\n",
       "      <td>Santa Ana</td>\n",
       "      <td>CA</td>\n",
       "      <td>...</td>\n",
       "      <td>4.0</td>\n",
       "      <td>1116</td>\n",
       "      <td>1125.0</td>\n",
       "      <td>9.0</td>\n",
       "      <td>341.0</td>\n",
       "      <td>320.0</td>\n",
       "      <td>0</td>\n",
       "      <td>0</td>\n",
       "      <td>2513 miles</td>\n",
       "      <td>AQ</td>\n",
       "    </tr>\n",
       "    <tr>\n",
       "      <th>960237</th>\n",
       "      <td>50423800</td>\n",
       "      <td>2001-05-31</td>\n",
       "      <td>KH</td>\n",
       "      <td>Aloha Airlines Inc.: AQ</td>\n",
       "      <td>-N738A</td>\n",
       "      <td>482</td>\n",
       "      <td>SNA</td>\n",
       "      <td>Santa AnaCA: John Wayne Airport-Orange County</td>\n",
       "      <td>Santa Ana</td>\n",
       "      <td>CA</td>\n",
       "      <td>...</td>\n",
       "      <td>5.0</td>\n",
       "      <td>2125</td>\n",
       "      <td>2134.0</td>\n",
       "      <td>9.0</td>\n",
       "      <td>55.0</td>\n",
       "      <td>65.0</td>\n",
       "      <td>False</td>\n",
       "      <td>F</td>\n",
       "      <td>226 miles</td>\n",
       "      <td>AQ</td>\n",
       "    </tr>\n",
       "  </tbody>\n",
       "</table>\n",
       "<p>645 rows × 32 columns</p>\n",
       "</div>"
      ],
      "text/plain": [
       "        TRANSACTIONID FLIGHTDATE AIRLINECODE              AIRLINENAME TAILNUM  \\\n",
       "87139        48290100 2001-01-01          KH  Aloha Airlines Inc.: AQ  -N824A   \n",
       "87140        48303500 2001-01-01          KH  Aloha Airlines Inc.: AQ  -N824A   \n",
       "87141        48298500 2001-01-03          KH  Aloha Airlines Inc.: AQ  -N821A   \n",
       "87142        48292300 2001-01-04          KH  Aloha Airlines Inc.: AQ  -N810A   \n",
       "87143        48297300 2001-01-05          KH  Aloha Airlines Inc.: AQ  -N823A   \n",
       "...               ...        ...         ...                      ...     ...   \n",
       "960009       50423700 2001-05-06          KH  Aloha Airlines Inc.: AQ  -N741A   \n",
       "960045       52508200 2001-09-02          KH  Aloha Airlines Inc.: AQ  -N742A   \n",
       "960059       52508100 2001-09-07          KH  Aloha Airlines Inc.: AQ  -N739A   \n",
       "960095       52508300 2001-09-27          KH  Aloha Airlines Inc.: AQ  -N740A   \n",
       "960237       50423800 2001-05-31          KH  Aloha Airlines Inc.: AQ  -N738A   \n",
       "\n",
       "        FLIGHTNUM ORIGINAIRPORTCODE  \\\n",
       "87139          83               KOA   \n",
       "87140         289               KOA   \n",
       "87141         231               KOA   \n",
       "87142         103               KOA   \n",
       "87143         219               KOA   \n",
       "...           ...               ...   \n",
       "960009        482               SNA   \n",
       "960045        483               SNA   \n",
       "960059        482               SNA   \n",
       "960095        483               SNA   \n",
       "960237        482               SNA   \n",
       "\n",
       "                                      ORIGAIRPORTNAME ORIGINCITYNAME  \\\n",
       "87139   KonaHI: Kona International Airport at Keahole           Kona   \n",
       "87140   KonaHI: Kona International Airport at Keahole           Kona   \n",
       "87141   KonaHI: Kona International Airport at Keahole           Kona   \n",
       "87142   KonaHI: Kona International Airport at Keahole           Kona   \n",
       "87143   KonaHI: Kona International Airport at Keahole           Kona   \n",
       "...                                               ...            ...   \n",
       "960009  Santa AnaCA: John Wayne Airport-Orange County      Santa Ana   \n",
       "960045  Santa AnaCA: John Wayne Airport-Orange County      Santa Ana   \n",
       "960059  Santa AnaCA: John Wayne Airport-Orange County      Santa Ana   \n",
       "960095  Santa AnaCA: John Wayne Airport-Orange County      Santa Ana   \n",
       "960237  Santa AnaCA: John Wayne Airport-Orange County      Santa Ana   \n",
       "\n",
       "       ORIGINSTATE  ... TAXIIN CRSARRTIME ARRTIME ARRDELAY CRSELAPSEDTIME  \\\n",
       "87139           HI  ...    2.0       1258  1300.0      2.0           38.0   \n",
       "87140           HI  ...    3.0       2013  2024.0     11.0           38.0   \n",
       "87141           HI  ...    2.0       1053  1051.0     -2.0           38.0   \n",
       "87142           HI  ...    5.0       1008  1007.0     -1.0           38.0   \n",
       "87143           HI  ...    2.0       1359  1356.0     -3.0           39.0   \n",
       "...            ...  ...    ...        ...     ...      ...            ...   \n",
       "960009          CA  ...    5.0       2125  2158.0     33.0           55.0   \n",
       "960045          CA  ...    4.0       1116  1101.0    -15.0          341.0   \n",
       "960059          CA  ...    5.0       2125  2134.0      9.0           55.0   \n",
       "960095          CA  ...    4.0       1116  1125.0      9.0          341.0   \n",
       "960237          CA  ...    5.0       2125  2134.0      9.0           55.0   \n",
       "\n",
       "       ACTUALELAPSEDTIME  CANCELLED  DIVERTED    DISTANCE  test  \n",
       "87139               37.0      False         F   163 miles    AQ  \n",
       "87140               41.0          F     False   163 miles    AQ  \n",
       "87141               42.0          0         0   163 miles    AQ  \n",
       "87142               41.0      False     False   163 miles    AQ  \n",
       "87143               36.0      False     False   163 miles    AQ  \n",
       "...                  ...        ...       ...         ...   ...  \n",
       "960009              69.0      False         F   226 miles    AQ  \n",
       "960045             321.0          0         0  2513 miles    AQ  \n",
       "960059              60.0      False         F   226 miles    AQ  \n",
       "960095             320.0          0         0  2513 miles    AQ  \n",
       "960237              65.0      False         F   226 miles    AQ  \n",
       "\n",
       "[645 rows x 32 columns]"
      ]
     },
     "execution_count": 31,
     "metadata": {},
     "output_type": "execute_result"
    }
   ],
   "source": [
    "df[df['test'] != df['AIRLINECODE']]"
   ]
  },
  {
   "cell_type": "code",
   "execution_count": 32,
   "metadata": {},
   "outputs": [],
   "source": [
    "# All records where AIRLINECODE is \"KH\", we see that it is \"AQ\" in Airline name\n",
    "# Therefore we will need to check wth the airline"
   ]
  },
  {
   "cell_type": "code",
   "execution_count": 33,
   "metadata": {},
   "outputs": [],
   "source": [
    "df.drop(['test'],inplace=True,axis=1)"
   ]
  },
  {
   "cell_type": "code",
   "execution_count": 34,
   "metadata": {},
   "outputs": [],
   "source": [
    "# Tail num"
   ]
  },
  {
   "cell_type": "code",
   "execution_count": 35,
   "metadata": {},
   "outputs": [
    {
     "data": {
      "text/plain": [
       "0          N103@@\n",
       "1          N83872\n",
       "2          N334@@\n",
       "3          N699@@\n",
       "4          N58606\n",
       "            ...  \n",
       "1191800    N683BR\n",
       "1191801    N949DL\n",
       "1191802    N907DE\n",
       "1191803    N855AS\n",
       "1191804    N138EV\n",
       "Name: TAILNUM, Length: 1191805, dtype: object"
      ]
     },
     "execution_count": 35,
     "metadata": {},
     "output_type": "execute_result"
    }
   ],
   "source": [
    "df.TAILNUM"
   ]
  },
  {
   "cell_type": "code",
   "execution_count": 36,
   "metadata": {},
   "outputs": [
    {
     "data": {
      "text/plain": [
       "13869"
      ]
     },
     "execution_count": 36,
     "metadata": {},
     "output_type": "execute_result"
    }
   ],
   "source": [
    "df.TAILNUM.nunique()"
   ]
  },
  {
   "cell_type": "code",
   "execution_count": 37,
   "metadata": {},
   "outputs": [
    {
     "data": {
      "text/plain": [
       "156817"
      ]
     },
     "execution_count": 37,
     "metadata": {},
     "output_type": "execute_result"
    }
   ],
   "source": [
    "df.TAILNUM.isnull().sum()"
   ]
  },
  {
   "cell_type": "code",
   "execution_count": 38,
   "metadata": {},
   "outputs": [],
   "source": [
    "# I don't think that we will need Tail Number. You can drop it as well."
   ]
  },
  {
   "cell_type": "code",
   "execution_count": 39,
   "metadata": {},
   "outputs": [],
   "source": [
    "# Flight Number"
   ]
  },
  {
   "cell_type": "code",
   "execution_count": 40,
   "metadata": {},
   "outputs": [
    {
     "data": {
      "text/plain": [
       "0          1425\n",
       "1           150\n",
       "2           249\n",
       "3           902\n",
       "4           234\n",
       "           ... \n",
       "1191800    5272\n",
       "1191801    1711\n",
       "1191802    1810\n",
       "1191803    5208\n",
       "1191804    5549\n",
       "Name: FLIGHTNUM, Length: 1191805, dtype: int64"
      ]
     },
     "execution_count": 40,
     "metadata": {},
     "output_type": "execute_result"
    }
   ],
   "source": [
    "df.FLIGHTNUM"
   ]
  },
  {
   "cell_type": "code",
   "execution_count": 41,
   "metadata": {},
   "outputs": [
    {
     "data": {
      "text/plain": [
       "8034"
      ]
     },
     "execution_count": 41,
     "metadata": {},
     "output_type": "execute_result"
    }
   ],
   "source": [
    "df.FLIGHTNUM.nunique()"
   ]
  },
  {
   "cell_type": "code",
   "execution_count": 42,
   "metadata": {},
   "outputs": [],
   "source": [
    "for a in df.FLIGHTNUM:\n",
    "    if(a%1!=0):\n",
    "        print (a)"
   ]
  },
  {
   "cell_type": "code",
   "execution_count": 43,
   "metadata": {},
   "outputs": [],
   "source": [
    "# ORIGIN AIRPORT CODE"
   ]
  },
  {
   "cell_type": "code",
   "execution_count": 44,
   "metadata": {},
   "outputs": [
    {
     "data": {
      "text/plain": [
       "0          ABQ\n",
       "1          ABQ\n",
       "2          ABQ\n",
       "3          ABQ\n",
       "4          ABQ\n",
       "          ... \n",
       "1191800    ATL\n",
       "1191801    ATL\n",
       "1191802    ATL\n",
       "1191803    ATL\n",
       "1191804    ATL\n",
       "Name: ORIGINAIRPORTCODE, Length: 1191805, dtype: object"
      ]
     },
     "execution_count": 44,
     "metadata": {},
     "output_type": "execute_result"
    }
   ],
   "source": [
    "df.ORIGINAIRPORTCODE"
   ]
  },
  {
   "cell_type": "code",
   "execution_count": 45,
   "metadata": {},
   "outputs": [
    {
     "data": {
      "text/plain": [
       "363"
      ]
     },
     "execution_count": 45,
     "metadata": {},
     "output_type": "execute_result"
    }
   ],
   "source": [
    "df.ORIGINAIRPORTCODE.nunique()"
   ]
  },
  {
   "cell_type": "code",
   "execution_count": 46,
   "metadata": {},
   "outputs": [],
   "source": [
    "import re\n",
    "rex = re.compile(\"^[A-Z]{3}$\")\n",
    "for a in df[\"ORIGINAIRPORTCODE\"]:\n",
    "    if rex.match(a) is None:\n",
    "        print(a)"
   ]
  },
  {
   "cell_type": "code",
   "execution_count": 47,
   "metadata": {},
   "outputs": [],
   "source": [
    "# ORIGIN AIRPORT NAME"
   ]
  },
  {
   "cell_type": "code",
   "execution_count": 48,
   "metadata": {},
   "outputs": [
    {
     "data": {
      "text/plain": [
       "0           AlbuquerqueNM: Albuquerque International Sunport\n",
       "1           AlbuquerqueNM: Albuquerque International Sunport\n",
       "2           AlbuquerqueNM: Albuquerque International Sunport\n",
       "3           AlbuquerqueNM: Albuquerque International Sunport\n",
       "4           AlbuquerqueNM: Albuquerque International Sunport\n",
       "                                 ...                        \n",
       "1191800    AtlantaGA: Hartsfield-Jackson Atlanta Internat...\n",
       "1191801    AtlantaGA: Hartsfield-Jackson Atlanta Internat...\n",
       "1191802    AtlantaGA: Hartsfield-Jackson Atlanta Internat...\n",
       "1191803    AtlantaGA: Hartsfield-Jackson Atlanta Internat...\n",
       "1191804    AtlantaGA: Hartsfield-Jackson Atlanta Internat...\n",
       "Name: ORIGAIRPORTNAME, Length: 1191805, dtype: object"
      ]
     },
     "execution_count": 48,
     "metadata": {},
     "output_type": "execute_result"
    }
   ],
   "source": [
    "df.ORIGAIRPORTNAME"
   ]
  },
  {
   "cell_type": "code",
   "execution_count": 49,
   "metadata": {},
   "outputs": [
    {
     "data": {
      "text/plain": [
       "363"
      ]
     },
     "execution_count": 49,
     "metadata": {},
     "output_type": "execute_result"
    }
   ],
   "source": [
    "df.ORIGAIRPORTNAME.nunique()"
   ]
  },
  {
   "cell_type": "code",
   "execution_count": 50,
   "metadata": {},
   "outputs": [],
   "source": [
    "df[\"test\"]=df.ORIGINAIRPORTCODE +  df.ORIGAIRPORTNAME"
   ]
  },
  {
   "cell_type": "code",
   "execution_count": 51,
   "metadata": {},
   "outputs": [
    {
     "data": {
      "text/plain": [
       "0    ABQAlbuquerqueNM: Albuquerque International Su...\n",
       "1    ABQAlbuquerqueNM: Albuquerque International Su...\n",
       "2    ABQAlbuquerqueNM: Albuquerque International Su...\n",
       "3    ABQAlbuquerqueNM: Albuquerque International Su...\n",
       "4    ABQAlbuquerqueNM: Albuquerque International Su...\n",
       "Name: test, dtype: object"
      ]
     },
     "execution_count": 51,
     "metadata": {},
     "output_type": "execute_result"
    }
   ],
   "source": [
    "df.test.head()"
   ]
  },
  {
   "cell_type": "code",
   "execution_count": 52,
   "metadata": {},
   "outputs": [
    {
     "data": {
      "text/plain": [
       "363"
      ]
     },
     "execution_count": 52,
     "metadata": {},
     "output_type": "execute_result"
    }
   ],
   "source": [
    "df.test.nunique()"
   ]
  },
  {
   "cell_type": "code",
   "execution_count": 53,
   "metadata": {},
   "outputs": [],
   "source": [
    "df.drop([\"test\"],inplace=True, axis=1)"
   ]
  },
  {
   "cell_type": "code",
   "execution_count": 54,
   "metadata": {},
   "outputs": [],
   "source": [
    "# ORIGIN CITY NAME"
   ]
  },
  {
   "cell_type": "code",
   "execution_count": 55,
   "metadata": {},
   "outputs": [
    {
     "data": {
      "text/plain": [
       "0          Albuquerque\n",
       "1          Albuquerque\n",
       "2          Albuquerque\n",
       "3          Albuquerque\n",
       "4          Albuquerque\n",
       "              ...     \n",
       "1191800        Atlanta\n",
       "1191801        Atlanta\n",
       "1191802        Atlanta\n",
       "1191803        Atlanta\n",
       "1191804        Atlanta\n",
       "Name: ORIGINCITYNAME, Length: 1191805, dtype: object"
      ]
     },
     "execution_count": 55,
     "metadata": {},
     "output_type": "execute_result"
    }
   ],
   "source": [
    "df.ORIGINCITYNAME"
   ]
  },
  {
   "cell_type": "code",
   "execution_count": 56,
   "metadata": {},
   "outputs": [
    {
     "data": {
      "text/plain": [
       "344"
      ]
     },
     "execution_count": 56,
     "metadata": {},
     "output_type": "execute_result"
    }
   ],
   "source": [
    "df.ORIGINCITYNAME.nunique()"
   ]
  },
  {
   "cell_type": "code",
   "execution_count": 57,
   "metadata": {},
   "outputs": [],
   "source": [
    "# ORIGIN STATE and ORIGIN STATE NAME"
   ]
  },
  {
   "cell_type": "code",
   "execution_count": 58,
   "metadata": {},
   "outputs": [
    {
     "data": {
      "text/plain": [
       "0          NM\n",
       "1          NM\n",
       "2          NM\n",
       "3          NM\n",
       "4          NM\n",
       "           ..\n",
       "1191800    GA\n",
       "1191801    GA\n",
       "1191802    GA\n",
       "1191803    GA\n",
       "1191804    GA\n",
       "Name: ORIGINSTATE, Length: 1191805, dtype: object"
      ]
     },
     "execution_count": 58,
     "metadata": {},
     "output_type": "execute_result"
    }
   ],
   "source": [
    "df.ORIGINSTATE"
   ]
  },
  {
   "cell_type": "code",
   "execution_count": 59,
   "metadata": {},
   "outputs": [
    {
     "data": {
      "text/plain": [
       "51"
      ]
     },
     "execution_count": 59,
     "metadata": {},
     "output_type": "execute_result"
    }
   ],
   "source": [
    "df.ORIGINSTATE.nunique()"
   ]
  },
  {
   "cell_type": "code",
   "execution_count": 60,
   "metadata": {},
   "outputs": [
    {
     "data": {
      "text/plain": [
       "0          New Mexico\n",
       "1          New Mexico\n",
       "2          New Mexico\n",
       "3          New Mexico\n",
       "4          New Mexico\n",
       "              ...    \n",
       "1191800       Georgia\n",
       "1191801       Georgia\n",
       "1191802       Georgia\n",
       "1191803       Georgia\n",
       "1191804       Georgia\n",
       "Name: ORIGINSTATENAME, Length: 1191805, dtype: object"
      ]
     },
     "execution_count": 60,
     "metadata": {},
     "output_type": "execute_result"
    }
   ],
   "source": [
    "df.ORIGINSTATENAME"
   ]
  },
  {
   "cell_type": "code",
   "execution_count": 61,
   "metadata": {},
   "outputs": [
    {
     "data": {
      "text/plain": [
       "51"
      ]
     },
     "execution_count": 61,
     "metadata": {},
     "output_type": "execute_result"
    }
   ],
   "source": [
    "df.ORIGINSTATENAME.nunique()"
   ]
  },
  {
   "cell_type": "code",
   "execution_count": 62,
   "metadata": {},
   "outputs": [],
   "source": [
    "F=df[df.ORIGINSTATENAME.isnull()].ORIGINCITYNAME.value_counts()"
   ]
  },
  {
   "cell_type": "code",
   "execution_count": 63,
   "metadata": {},
   "outputs": [],
   "source": [
    "# You could find out the Origin State and State name of these and enter them in the data frame"
   ]
  },
  {
   "cell_type": "code",
   "execution_count": 64,
   "metadata": {},
   "outputs": [],
   "source": [
    "# DEST AIRPORT CODE"
   ]
  },
  {
   "cell_type": "code",
   "execution_count": 65,
   "metadata": {},
   "outputs": [
    {
     "data": {
      "text/plain": [
       "0          DAL\n",
       "1          IAH\n",
       "2          MCI\n",
       "3          LAS\n",
       "4          IAH\n",
       "          ... \n",
       "1191800    DAL\n",
       "1191801    DFW\n",
       "1191802    DFW\n",
       "1191803    FWA\n",
       "1191804    GSO\n",
       "Name: DESTAIRPORTCODE, Length: 1191805, dtype: object"
      ]
     },
     "execution_count": 65,
     "metadata": {},
     "output_type": "execute_result"
    }
   ],
   "source": [
    "df.DESTAIRPORTCODE"
   ]
  },
  {
   "cell_type": "code",
   "execution_count": 66,
   "metadata": {},
   "outputs": [
    {
     "data": {
      "text/plain": [
       "364"
      ]
     },
     "execution_count": 66,
     "metadata": {},
     "output_type": "execute_result"
    }
   ],
   "source": [
    "df.DESTAIRPORTCODE.nunique()"
   ]
  },
  {
   "cell_type": "code",
   "execution_count": 67,
   "metadata": {},
   "outputs": [],
   "source": [
    "import re\n",
    "rex = re.compile(\"^[A-Z]{3}$\")\n",
    "for a in df[\"DESTAIRPORTCODE\"]:\n",
    "    if rex.match(a) is None:\n",
    "        print(a)"
   ]
  },
  {
   "cell_type": "code",
   "execution_count": 68,
   "metadata": {},
   "outputs": [],
   "source": [
    "# DEST AIRPORT NAME"
   ]
  },
  {
   "cell_type": "code",
   "execution_count": 69,
   "metadata": {},
   "outputs": [
    {
     "data": {
      "text/plain": [
       "0                                DallasTX: Dallas Love Field\n",
       "1            HoustonTX: George Bush Intercontinental/Houston\n",
       "2                   Kansas CityMO: Kansas City International\n",
       "3                        Las VegasNV: McCarran International\n",
       "4            HoustonTX: George Bush Intercontinental/Houston\n",
       "                                 ...                        \n",
       "1191800                          DallasTX: Dallas Love Field\n",
       "1191801    Dallas/Fort WorthTX: Dallas/Fort Worth Interna...\n",
       "1191802    Dallas/Fort WorthTX: Dallas/Fort Worth Interna...\n",
       "1191803               Fort WayneIN: Fort Wayne International\n",
       "1191804    Greensboro/High PointNC: Piedmont Triad Intern...\n",
       "Name: DESTAIRPORTNAME, Length: 1191805, dtype: object"
      ]
     },
     "execution_count": 69,
     "metadata": {},
     "output_type": "execute_result"
    }
   ],
   "source": [
    "df.DESTAIRPORTNAME"
   ]
  },
  {
   "cell_type": "code",
   "execution_count": 70,
   "metadata": {},
   "outputs": [
    {
     "data": {
      "text/plain": [
       "364"
      ]
     },
     "execution_count": 70,
     "metadata": {},
     "output_type": "execute_result"
    }
   ],
   "source": [
    "df.DESTAIRPORTNAME.nunique()"
   ]
  },
  {
   "cell_type": "code",
   "execution_count": 71,
   "metadata": {},
   "outputs": [],
   "source": [
    "df['test1']= df.DESTAIRPORTCODE + df.DESTAIRPORTNAME"
   ]
  },
  {
   "cell_type": "code",
   "execution_count": 72,
   "metadata": {},
   "outputs": [
    {
     "data": {
      "text/plain": [
       "364"
      ]
     },
     "execution_count": 72,
     "metadata": {},
     "output_type": "execute_result"
    }
   ],
   "source": [
    "df.test1.nunique()"
   ]
  },
  {
   "cell_type": "code",
   "execution_count": 73,
   "metadata": {},
   "outputs": [],
   "source": [
    "df.drop(['test1'],inplace=True,axis=1)"
   ]
  },
  {
   "cell_type": "code",
   "execution_count": 74,
   "metadata": {},
   "outputs": [],
   "source": [
    "# DEST CITY NAME"
   ]
  },
  {
   "cell_type": "code",
   "execution_count": 75,
   "metadata": {},
   "outputs": [
    {
     "data": {
      "text/plain": [
       "0                         Dallas\n",
       "1                        Houston\n",
       "2                    Kansas City\n",
       "3                      Las Vegas\n",
       "4                        Houston\n",
       "                   ...          \n",
       "1191800                   Dallas\n",
       "1191801        Dallas/Fort Worth\n",
       "1191802        Dallas/Fort Worth\n",
       "1191803               Fort Wayne\n",
       "1191804    Greensboro/High Point\n",
       "Name: DESTCITYNAME, Length: 1191805, dtype: object"
      ]
     },
     "execution_count": 75,
     "metadata": {},
     "output_type": "execute_result"
    }
   ],
   "source": [
    "df.DESTCITYNAME"
   ]
  },
  {
   "cell_type": "code",
   "execution_count": 76,
   "metadata": {},
   "outputs": [
    {
     "data": {
      "text/plain": [
       "345"
      ]
     },
     "execution_count": 76,
     "metadata": {},
     "output_type": "execute_result"
    }
   ],
   "source": [
    "df.DESTCITYNAME.nunique()"
   ]
  },
  {
   "cell_type": "code",
   "execution_count": 77,
   "metadata": {},
   "outputs": [],
   "source": [
    "# DEST STATE and DEST STATE NAME"
   ]
  },
  {
   "cell_type": "code",
   "execution_count": 78,
   "metadata": {},
   "outputs": [
    {
     "data": {
      "text/plain": [
       "0          TX\n",
       "1          TX\n",
       "2          MO\n",
       "3          NV\n",
       "4          TX\n",
       "           ..\n",
       "1191800    TX\n",
       "1191801    TX\n",
       "1191802    TX\n",
       "1191803    IN\n",
       "1191804    NC\n",
       "Name: DESTSTATE, Length: 1191805, dtype: object"
      ]
     },
     "execution_count": 78,
     "metadata": {},
     "output_type": "execute_result"
    }
   ],
   "source": [
    "df.DESTSTATE"
   ]
  },
  {
   "cell_type": "code",
   "execution_count": 79,
   "metadata": {},
   "outputs": [
    {
     "data": {
      "text/plain": [
       "0                   Texas\n",
       "1                   Texas\n",
       "2                Missouri\n",
       "3                  Nevada\n",
       "4                   Texas\n",
       "                ...      \n",
       "1191800             Texas\n",
       "1191801             Texas\n",
       "1191802             Texas\n",
       "1191803           Indiana\n",
       "1191804    North Carolina\n",
       "Name: DESTSTATENAME, Length: 1191805, dtype: object"
      ]
     },
     "execution_count": 79,
     "metadata": {},
     "output_type": "execute_result"
    }
   ],
   "source": [
    "df.DESTSTATENAME"
   ]
  },
  {
   "cell_type": "code",
   "execution_count": 80,
   "metadata": {},
   "outputs": [
    {
     "data": {
      "text/plain": [
       "51"
      ]
     },
     "execution_count": 80,
     "metadata": {},
     "output_type": "execute_result"
    }
   ],
   "source": [
    "df.DESTSTATE.nunique()"
   ]
  },
  {
   "cell_type": "code",
   "execution_count": 81,
   "metadata": {},
   "outputs": [
    {
     "data": {
      "text/plain": [
       "51"
      ]
     },
     "execution_count": 81,
     "metadata": {},
     "output_type": "execute_result"
    }
   ],
   "source": [
    "df.DESTSTATENAME.nunique()"
   ]
  },
  {
   "cell_type": "code",
   "execution_count": 82,
   "metadata": {},
   "outputs": [],
   "source": [
    "G=df[df.DESTSTATENAME.isnull()].DESTCITYNAME.value_counts()"
   ]
  },
  {
   "cell_type": "code",
   "execution_count": 83,
   "metadata": {},
   "outputs": [
    {
     "data": {
      "text/plain": [
       "Oklahoma City          4470\n",
       "Tulsa                  4215\n",
       "Wichita                1847\n",
       "Lawton/Fort Sill        156\n",
       "Manhattan/Ft. Riley      99\n",
       "Garden City              33\n",
       "Hays                     13\n",
       "Topeka                    5\n",
       "Name: DESTCITYNAME, dtype: int64"
      ]
     },
     "execution_count": 83,
     "metadata": {},
     "output_type": "execute_result"
    }
   ],
   "source": [
    "G"
   ]
  },
  {
   "cell_type": "code",
   "execution_count": 84,
   "metadata": {},
   "outputs": [
    {
     "data": {
      "text/plain": [
       "Oklahoma City          4465\n",
       "Tulsa                  4199\n",
       "Wichita                1878\n",
       "Lawton/Fort Sill        161\n",
       "Manhattan/Ft. Riley      99\n",
       "Garden City              24\n",
       "Hays                     13\n",
       "Topeka                    3\n",
       "Name: ORIGINCITYNAME, dtype: int64"
      ]
     },
     "execution_count": 84,
     "metadata": {},
     "output_type": "execute_result"
    }
   ],
   "source": [
    "F"
   ]
  },
  {
   "cell_type": "code",
   "execution_count": 85,
   "metadata": {},
   "outputs": [],
   "source": [
    "# As you can see, these are the same cities where we did not have state name and state for origin.\n",
    "# Therefore, solving for one, we will have to put same names in the DEST as well."
   ]
  },
  {
   "cell_type": "code",
   "execution_count": 86,
   "metadata": {},
   "outputs": [],
   "source": [
    "# CRES DEP TIME"
   ]
  },
  {
   "cell_type": "code",
   "execution_count": 87,
   "metadata": {},
   "outputs": [
    {
     "data": {
      "text/plain": [
       "0          1425\n",
       "1          1130\n",
       "2          1215\n",
       "3          1925\n",
       "4          1455\n",
       "           ... \n",
       "1191800    1357\n",
       "1191801    2150\n",
       "1191802    1617\n",
       "1191803    1516\n",
       "1191804    1452\n",
       "Name: CRSDEPTIME, Length: 1191805, dtype: int64"
      ]
     },
     "execution_count": 87,
     "metadata": {},
     "output_type": "execute_result"
    }
   ],
   "source": [
    "df.CRSDEPTIME"
   ]
  },
  {
   "cell_type": "code",
   "execution_count": 88,
   "metadata": {},
   "outputs": [
    {
     "data": {
      "text/plain": [
       "count    1.191805e+06\n",
       "mean     1.326645e+03\n",
       "std      4.776749e+02\n",
       "min      0.000000e+00\n",
       "25%      9.250000e+02\n",
       "50%      1.325000e+03\n",
       "75%      1.725000e+03\n",
       "max      2.400000e+03\n",
       "Name: CRSDEPTIME, dtype: float64"
      ]
     },
     "execution_count": 88,
     "metadata": {},
     "output_type": "execute_result"
    }
   ],
   "source": [
    "df.CRSDEPTIME.describe()"
   ]
  },
  {
   "cell_type": "code",
   "execution_count": 89,
   "metadata": {},
   "outputs": [],
   "source": [
    "df.CRSDEPTIME=df.CRSDEPTIME.astype(str)"
   ]
  },
  {
   "cell_type": "code",
   "execution_count": 90,
   "metadata": {},
   "outputs": [],
   "source": [
    "b=[]\n",
    "\n",
    "for a in df.CRSDEPTIME:\n",
    "    if (len(a)==4):\n",
    "        c=a[:2]+ \":\"+a[2:4]\n",
    "    elif (len(a)==3):\n",
    "        c=\"0\" + a[:1]+ \":\"+a[1:3]\n",
    "    elif (len(a)==2):\n",
    "        c=\"00:\" + a\n",
    "    else:\n",
    "        c=\"00:0\" + a\n",
    "    b.append(c)"
   ]
  },
  {
   "cell_type": "code",
   "execution_count": 91,
   "metadata": {},
   "outputs": [],
   "source": [
    "df.CRSDEPTIME=b"
   ]
  },
  {
   "cell_type": "code",
   "execution_count": 92,
   "metadata": {},
   "outputs": [
    {
     "data": {
      "text/html": [
       "<div>\n",
       "<style scoped>\n",
       "    .dataframe tbody tr th:only-of-type {\n",
       "        vertical-align: middle;\n",
       "    }\n",
       "\n",
       "    .dataframe tbody tr th {\n",
       "        vertical-align: top;\n",
       "    }\n",
       "\n",
       "    .dataframe thead th {\n",
       "        text-align: right;\n",
       "    }\n",
       "</style>\n",
       "<table border=\"1\" class=\"dataframe\">\n",
       "  <thead>\n",
       "    <tr style=\"text-align: right;\">\n",
       "      <th></th>\n",
       "      <th>TRANSACTIONID</th>\n",
       "      <th>FLIGHTDATE</th>\n",
       "      <th>AIRLINECODE</th>\n",
       "      <th>AIRLINENAME</th>\n",
       "      <th>TAILNUM</th>\n",
       "      <th>FLIGHTNUM</th>\n",
       "      <th>ORIGINAIRPORTCODE</th>\n",
       "      <th>ORIGAIRPORTNAME</th>\n",
       "      <th>ORIGINCITYNAME</th>\n",
       "      <th>ORIGINSTATE</th>\n",
       "      <th>...</th>\n",
       "      <th>WHEELSON</th>\n",
       "      <th>TAXIIN</th>\n",
       "      <th>CRSARRTIME</th>\n",
       "      <th>ARRTIME</th>\n",
       "      <th>ARRDELAY</th>\n",
       "      <th>CRSELAPSEDTIME</th>\n",
       "      <th>ACTUALELAPSEDTIME</th>\n",
       "      <th>CANCELLED</th>\n",
       "      <th>DIVERTED</th>\n",
       "      <th>DISTANCE</th>\n",
       "    </tr>\n",
       "  </thead>\n",
       "  <tbody>\n",
       "    <tr>\n",
       "      <th>124652</th>\n",
       "      <td>30718000</td>\n",
       "      <td>1997-09-30</td>\n",
       "      <td>WN</td>\n",
       "      <td>Southwest Airlines Co.: WN</td>\n",
       "      <td>N691</td>\n",
       "      <td>1884</td>\n",
       "      <td>MCI</td>\n",
       "      <td>Kansas CityMO: Kansas City International</td>\n",
       "      <td>Kansas City</td>\n",
       "      <td>MO</td>\n",
       "      <td>...</td>\n",
       "      <td>102.0</td>\n",
       "      <td>3.0</td>\n",
       "      <td>105</td>\n",
       "      <td>105.0</td>\n",
       "      <td>0.0</td>\n",
       "      <td>65.0</td>\n",
       "      <td>65.0</td>\n",
       "      <td>False</td>\n",
       "      <td>False</td>\n",
       "      <td>405 miles</td>\n",
       "    </tr>\n",
       "    <tr>\n",
       "      <th>124658</th>\n",
       "      <td>30717900</td>\n",
       "      <td>1997-09-05</td>\n",
       "      <td>WN</td>\n",
       "      <td>Southwest Airlines Co.: WN</td>\n",
       "      <td>N384</td>\n",
       "      <td>1884</td>\n",
       "      <td>MCI</td>\n",
       "      <td>Kansas CityMO: Kansas City International</td>\n",
       "      <td>Kansas City</td>\n",
       "      <td>MO</td>\n",
       "      <td>...</td>\n",
       "      <td>102.0</td>\n",
       "      <td>3.0</td>\n",
       "      <td>110</td>\n",
       "      <td>105.0</td>\n",
       "      <td>-5.0</td>\n",
       "      <td>70.0</td>\n",
       "      <td>65.0</td>\n",
       "      <td>False</td>\n",
       "      <td>False</td>\n",
       "      <td>405 miles</td>\n",
       "    </tr>\n",
       "  </tbody>\n",
       "</table>\n",
       "<p>2 rows × 31 columns</p>\n",
       "</div>"
      ],
      "text/plain": [
       "        TRANSACTIONID FLIGHTDATE AIRLINECODE                 AIRLINENAME  \\\n",
       "124652       30718000 1997-09-30          WN  Southwest Airlines Co.: WN   \n",
       "124658       30717900 1997-09-05          WN  Southwest Airlines Co.: WN   \n",
       "\n",
       "       TAILNUM  FLIGHTNUM ORIGINAIRPORTCODE  \\\n",
       "124652    N691       1884               MCI   \n",
       "124658    N384       1884               MCI   \n",
       "\n",
       "                                 ORIGAIRPORTNAME ORIGINCITYNAME ORIGINSTATE  \\\n",
       "124652  Kansas CityMO: Kansas City International    Kansas City          MO   \n",
       "124658  Kansas CityMO: Kansas City International    Kansas City          MO   \n",
       "\n",
       "        ... WHEELSON TAXIIN CRSARRTIME ARRTIME ARRDELAY CRSELAPSEDTIME  \\\n",
       "124652  ...    102.0    3.0        105   105.0      0.0           65.0   \n",
       "124658  ...    102.0    3.0        110   105.0     -5.0           70.0   \n",
       "\n",
       "       ACTUALELAPSEDTIME  CANCELLED  DIVERTED   DISTANCE  \n",
       "124652              65.0      False     False  405 miles  \n",
       "124658              65.0      False     False  405 miles  \n",
       "\n",
       "[2 rows x 31 columns]"
      ]
     },
     "execution_count": 92,
     "metadata": {},
     "output_type": "execute_result"
    }
   ],
   "source": [
    "df[df.CRSDEPTIME == \"24:00\"]"
   ]
  },
  {
   "cell_type": "code",
   "execution_count": 93,
   "metadata": {},
   "outputs": [],
   "source": [
    "# It is uncertain whether this means that they left at 12 AM on same day or next day"
   ]
  },
  {
   "cell_type": "code",
   "execution_count": 94,
   "metadata": {},
   "outputs": [],
   "source": [
    "df= df[df.CRSDEPTIME != \"24:00\"]"
   ]
  },
  {
   "cell_type": "code",
   "execution_count": 95,
   "metadata": {},
   "outputs": [
    {
     "data": {
      "text/plain": [
       "0          14:25\n",
       "1          11:30\n",
       "2          12:15\n",
       "3          19:25\n",
       "4          14:55\n",
       "           ...  \n",
       "1191800    13:57\n",
       "1191801    21:50\n",
       "1191802    16:17\n",
       "1191803    15:16\n",
       "1191804    14:52\n",
       "Name: CRSDEPTIME, Length: 1191803, dtype: object"
      ]
     },
     "execution_count": 95,
     "metadata": {},
     "output_type": "execute_result"
    }
   ],
   "source": [
    "df.CRSDEPTIME"
   ]
  },
  {
   "cell_type": "code",
   "execution_count": 96,
   "metadata": {},
   "outputs": [],
   "source": [
    "# DEP DELAY"
   ]
  },
  {
   "cell_type": "code",
   "execution_count": 97,
   "metadata": {},
   "outputs": [
    {
     "data": {
      "text/plain": [
       "count    1.163468e+06\n",
       "mean     7.286353e+00\n",
       "std      2.974674e+01\n",
       "min     -1.200000e+02\n",
       "25%     -3.000000e+00\n",
       "50%      0.000000e+00\n",
       "75%      5.000000e+00\n",
       "max      1.477000e+03\n",
       "Name: DEPDELAY, dtype: float64"
      ]
     },
     "execution_count": 97,
     "metadata": {},
     "output_type": "execute_result"
    }
   ],
   "source": [
    "df.DEPDELAY.describe()"
   ]
  },
  {
   "cell_type": "code",
   "execution_count": 98,
   "metadata": {},
   "outputs": [
    {
     "name": "stderr",
     "output_type": "stream",
     "text": [
      "c:\\users\\ayush agarwal\\envs\\test\\lib\\site-packages\\numpy\\lib\\histograms.py:839: RuntimeWarning: invalid value encountered in greater_equal\n",
      "  keep = (tmp_a >= first_edge)\n",
      "c:\\users\\ayush agarwal\\envs\\test\\lib\\site-packages\\numpy\\lib\\histograms.py:840: RuntimeWarning: invalid value encountered in less_equal\n",
      "  keep &= (tmp_a <= last_edge)\n"
     ]
    },
    {
     "data": {
      "image/png": "[encoded data removed]",
      "text/plain": [
       "<Figure size 432x288 with 1 Axes>"
      ]
     },
     "metadata": {
      "needs_background": "light"
     },
     "output_type": "display_data"
    }
   ],
   "source": [
    "plt.hist(df.DEPDELAY)\n",
    "plt.show()"
   ]
  },
  {
   "cell_type": "code",
   "execution_count": 99,
   "metadata": {},
   "outputs": [],
   "source": [
    "# most flights early"
   ]
  },
  {
   "cell_type": "code",
   "execution_count": 100,
   "metadata": {},
   "outputs": [
    {
     "data": {
      "text/plain": [
       "count    1.011831e+06\n",
       "mean     1.533652e+01\n",
       "std      1.038972e+01\n",
       "min      0.000000e+00\n",
       "25%      1.000000e+01\n",
       "50%      1.300000e+01\n",
       "75%      1.800000e+01\n",
       "max      1.439000e+03\n",
       "Name: TAXIOUT, dtype: float64"
      ]
     },
     "execution_count": 100,
     "metadata": {},
     "output_type": "execute_result"
    }
   ],
   "source": [
    "df.TAXIOUT.describe()"
   ]
  },
  {
   "cell_type": "code",
   "execution_count": 101,
   "metadata": {},
   "outputs": [
    {
     "data": {
      "text/plain": [
       "0           8.0\n",
       "1          12.0\n",
       "2           7.0\n",
       "3           5.0\n",
       "4          11.0\n",
       "           ... \n",
       "1191800    22.0\n",
       "1191801    23.0\n",
       "1191802    18.0\n",
       "1191803    21.0\n",
       "1191804    27.0\n",
       "Name: TAXIOUT, Length: 1191803, dtype: float64"
      ]
     },
     "execution_count": 101,
     "metadata": {},
     "output_type": "execute_result"
    }
   ],
   "source": [
    "df.TAXIOUT"
   ]
  },
  {
   "cell_type": "code",
   "execution_count": 102,
   "metadata": {},
   "outputs": [],
   "source": [
    "# Wheels off"
   ]
  },
  {
   "cell_type": "code",
   "execution_count": 103,
   "metadata": {},
   "outputs": [
    {
     "data": {
      "text/plain": [
       "0          1433.0\n",
       "1          1148.0\n",
       "2          1345.0\n",
       "3          1930.0\n",
       "4          1504.0\n",
       "            ...  \n",
       "1191800    1410.0\n",
       "1191801    2210.0\n",
       "1191802    1635.0\n",
       "1191803    1535.0\n",
       "1191804    1525.0\n",
       "Name: WHEELSOFF, Length: 1191803, dtype: float64"
      ]
     },
     "execution_count": 103,
     "metadata": {},
     "output_type": "execute_result"
    }
   ],
   "source": [
    "df.WHEELSOFF"
   ]
  },
  {
   "cell_type": "code",
   "execution_count": 104,
   "metadata": {},
   "outputs": [
    {
     "data": {
      "text/plain": [
       "0          1433.0\n",
       "1          1148.0\n",
       "2          1345.0\n",
       "3          1930.0\n",
       "4          1504.0\n",
       "            ...  \n",
       "1191800    1410.0\n",
       "1191801    2210.0\n",
       "1191802    1635.0\n",
       "1191803    1535.0\n",
       "1191804    1525.0\n",
       "Name: WHEELSOFF, Length: 1191803, dtype: object"
      ]
     },
     "execution_count": 104,
     "metadata": {},
     "output_type": "execute_result"
    }
   ],
   "source": [
    "df.WHEELSOFF.astype(str)"
   ]
  },
  {
   "cell_type": "code",
   "execution_count": 105,
   "metadata": {},
   "outputs": [
    {
     "data": {
      "text/plain": [
       "0          580 miles\n",
       "1          744 miles\n",
       "2          718 miles\n",
       "3          487 miles\n",
       "4          744 miles\n",
       "             ...    \n",
       "1191800    721 miles\n",
       "1191801    731 miles\n",
       "1191802    731 miles\n",
       "1191803    508 miles\n",
       "1191804    306 miles\n",
       "Name: DISTANCE, Length: 1191803, dtype: object"
      ]
     },
     "execution_count": 105,
     "metadata": {},
     "output_type": "execute_result"
    }
   ],
   "source": [
    "df.DISTANCE"
   ]
  },
  {
   "cell_type": "code",
   "execution_count": null,
   "metadata": {},
   "outputs": [],
   "source": []
  }
 ],
 "metadata": {
  "kernelspec": {
   "display_name": "Python 3",
   "language": "python",
   "name": "python3"
  },
  "language_info": {
   "codemirror_mode": {
    "name": "ipython",
    "version": 3
   },
   "file_extension": ".py",
   "mimetype": "text/x-python",
   "name": "python",
   "nbconvert_exporter": "python",
   "pygments_lexer": "ipython3",
   "version": "3.6.3"
  }
 },
 "nbformat": 4,
 "nbformat_minor": 4
}
